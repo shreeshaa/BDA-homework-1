{
  "nbformat": 4,
  "nbformat_minor": 0,
  "metadata": {
    "colab": {
      "name": "Untitled0.ipynb",
      "provenance": [],
      "authorship_tag": "ABX9TyO8VNeSpwitsVopfKV5uiBj",
      "include_colab_link": true
    },
    "kernelspec": {
      "name": "python3",
      "display_name": "Python 3"
    },
    "widgets": {
      "application/vnd.jupyter.widget-state+json": {
        "66d2bd7d40884008b44e60e78c157e25": {
          "model_module": "@jupyter-widgets/controls",
          "model_name": "HBoxModel",
          "state": {
            "_view_name": "HBoxView",
            "_dom_classes": [],
            "_model_name": "HBoxModel",
            "_view_module": "@jupyter-widgets/controls",
            "_model_module_version": "1.5.0",
            "_view_count": null,
            "_view_module_version": "1.5.0",
            "box_style": "",
            "layout": "IPY_MODEL_1b85c402b995405e825f4855d941a641",
            "_model_module": "@jupyter-widgets/controls",
            "children": [
              "IPY_MODEL_293b5061be7f4c92a26b0a6561ccf4c2",
              "IPY_MODEL_11f35fa2681a4c44ad0d21741e079cbd"
            ]
          }
        },
        "1b85c402b995405e825f4855d941a641": {
          "model_module": "@jupyter-widgets/base",
          "model_name": "LayoutModel",
          "state": {
            "_view_name": "LayoutView",
            "grid_template_rows": null,
            "right": null,
            "justify_content": null,
            "_view_module": "@jupyter-widgets/base",
            "overflow": null,
            "_model_module_version": "1.2.0",
            "_view_count": null,
            "flex_flow": null,
            "width": null,
            "min_width": null,
            "border": null,
            "align_items": null,
            "bottom": null,
            "_model_module": "@jupyter-widgets/base",
            "top": null,
            "grid_column": null,
            "overflow_y": null,
            "overflow_x": null,
            "grid_auto_flow": null,
            "grid_area": null,
            "grid_template_columns": null,
            "flex": null,
            "_model_name": "LayoutModel",
            "justify_items": null,
            "grid_row": null,
            "max_height": null,
            "align_content": null,
            "visibility": null,
            "align_self": null,
            "height": null,
            "min_height": null,
            "padding": null,
            "grid_auto_rows": null,
            "grid_gap": null,
            "max_width": null,
            "order": null,
            "_view_module_version": "1.2.0",
            "grid_template_areas": null,
            "object_position": null,
            "object_fit": null,
            "grid_auto_columns": null,
            "margin": null,
            "display": null,
            "left": null
          }
        },
        "293b5061be7f4c92a26b0a6561ccf4c2": {
          "model_module": "@jupyter-widgets/controls",
          "model_name": "IntProgressModel",
          "state": {
            "_view_name": "ProgressView",
            "style": "IPY_MODEL_e8dc50c0816f43539d979e3993d3d86f",
            "_dom_classes": [],
            "description": "Downloading: 100%",
            "_model_name": "IntProgressModel",
            "bar_style": "success",
            "max": 231508,
            "_view_module": "@jupyter-widgets/controls",
            "_model_module_version": "1.5.0",
            "value": 231508,
            "_view_count": null,
            "_view_module_version": "1.5.0",
            "orientation": "horizontal",
            "min": 0,
            "description_tooltip": null,
            "_model_module": "@jupyter-widgets/controls",
            "layout": "IPY_MODEL_66d9fca28c4545238ae3b09fd6864967"
          }
        },
        "11f35fa2681a4c44ad0d21741e079cbd": {
          "model_module": "@jupyter-widgets/controls",
          "model_name": "HTMLModel",
          "state": {
            "_view_name": "HTMLView",
            "style": "IPY_MODEL_5612c57aaebc4365a3afeac8a353ff07",
            "_dom_classes": [],
            "description": "",
            "_model_name": "HTMLModel",
            "placeholder": "​",
            "_view_module": "@jupyter-widgets/controls",
            "_model_module_version": "1.5.0",
            "value": " 232k/232k [00:00&lt;00:00, 2.25MB/s]",
            "_view_count": null,
            "_view_module_version": "1.5.0",
            "description_tooltip": null,
            "_model_module": "@jupyter-widgets/controls",
            "layout": "IPY_MODEL_e4baff88b4d24340b85e9e2ee9109c9e"
          }
        },
        "e8dc50c0816f43539d979e3993d3d86f": {
          "model_module": "@jupyter-widgets/controls",
          "model_name": "ProgressStyleModel",
          "state": {
            "_view_name": "StyleView",
            "_model_name": "ProgressStyleModel",
            "description_width": "initial",
            "_view_module": "@jupyter-widgets/base",
            "_model_module_version": "1.5.0",
            "_view_count": null,
            "_view_module_version": "1.2.0",
            "bar_color": null,
            "_model_module": "@jupyter-widgets/controls"
          }
        },
        "66d9fca28c4545238ae3b09fd6864967": {
          "model_module": "@jupyter-widgets/base",
          "model_name": "LayoutModel",
          "state": {
            "_view_name": "LayoutView",
            "grid_template_rows": null,
            "right": null,
            "justify_content": null,
            "_view_module": "@jupyter-widgets/base",
            "overflow": null,
            "_model_module_version": "1.2.0",
            "_view_count": null,
            "flex_flow": null,
            "width": null,
            "min_width": null,
            "border": null,
            "align_items": null,
            "bottom": null,
            "_model_module": "@jupyter-widgets/base",
            "top": null,
            "grid_column": null,
            "overflow_y": null,
            "overflow_x": null,
            "grid_auto_flow": null,
            "grid_area": null,
            "grid_template_columns": null,
            "flex": null,
            "_model_name": "LayoutModel",
            "justify_items": null,
            "grid_row": null,
            "max_height": null,
            "align_content": null,
            "visibility": null,
            "align_self": null,
            "height": null,
            "min_height": null,
            "padding": null,
            "grid_auto_rows": null,
            "grid_gap": null,
            "max_width": null,
            "order": null,
            "_view_module_version": "1.2.0",
            "grid_template_areas": null,
            "object_position": null,
            "object_fit": null,
            "grid_auto_columns": null,
            "margin": null,
            "display": null,
            "left": null
          }
        },
        "5612c57aaebc4365a3afeac8a353ff07": {
          "model_module": "@jupyter-widgets/controls",
          "model_name": "DescriptionStyleModel",
          "state": {
            "_view_name": "StyleView",
            "_model_name": "DescriptionStyleModel",
            "description_width": "",
            "_view_module": "@jupyter-widgets/base",
            "_model_module_version": "1.5.0",
            "_view_count": null,
            "_view_module_version": "1.2.0",
            "_model_module": "@jupyter-widgets/controls"
          }
        },
        "e4baff88b4d24340b85e9e2ee9109c9e": {
          "model_module": "@jupyter-widgets/base",
          "model_name": "LayoutModel",
          "state": {
            "_view_name": "LayoutView",
            "grid_template_rows": null,
            "right": null,
            "justify_content": null,
            "_view_module": "@jupyter-widgets/base",
            "overflow": null,
            "_model_module_version": "1.2.0",
            "_view_count": null,
            "flex_flow": null,
            "width": null,
            "min_width": null,
            "border": null,
            "align_items": null,
            "bottom": null,
            "_model_module": "@jupyter-widgets/base",
            "top": null,
            "grid_column": null,
            "overflow_y": null,
            "overflow_x": null,
            "grid_auto_flow": null,
            "grid_area": null,
            "grid_template_columns": null,
            "flex": null,
            "_model_name": "LayoutModel",
            "justify_items": null,
            "grid_row": null,
            "max_height": null,
            "align_content": null,
            "visibility": null,
            "align_self": null,
            "height": null,
            "min_height": null,
            "padding": null,
            "grid_auto_rows": null,
            "grid_gap": null,
            "max_width": null,
            "order": null,
            "_view_module_version": "1.2.0",
            "grid_template_areas": null,
            "object_position": null,
            "object_fit": null,
            "grid_auto_columns": null,
            "margin": null,
            "display": null,
            "left": null
          }
        },
        "d1bba6855fbe4834bbb691ed011ece79": {
          "model_module": "@jupyter-widgets/controls",
          "model_name": "HBoxModel",
          "state": {
            "_view_name": "HBoxView",
            "_dom_classes": [],
            "_model_name": "HBoxModel",
            "_view_module": "@jupyter-widgets/controls",
            "_model_module_version": "1.5.0",
            "_view_count": null,
            "_view_module_version": "1.5.0",
            "box_style": "",
            "layout": "IPY_MODEL_289eec200e4f441b940a0daa23e7411f",
            "_model_module": "@jupyter-widgets/controls",
            "children": [
              "IPY_MODEL_fc741e7341af446e99b31250fcf7f5e0",
              "IPY_MODEL_c4caa77dd7f14bfd9589f4b98bb7cf4f"
            ]
          }
        },
        "289eec200e4f441b940a0daa23e7411f": {
          "model_module": "@jupyter-widgets/base",
          "model_name": "LayoutModel",
          "state": {
            "_view_name": "LayoutView",
            "grid_template_rows": null,
            "right": null,
            "justify_content": null,
            "_view_module": "@jupyter-widgets/base",
            "overflow": null,
            "_model_module_version": "1.2.0",
            "_view_count": null,
            "flex_flow": null,
            "width": null,
            "min_width": null,
            "border": null,
            "align_items": null,
            "bottom": null,
            "_model_module": "@jupyter-widgets/base",
            "top": null,
            "grid_column": null,
            "overflow_y": null,
            "overflow_x": null,
            "grid_auto_flow": null,
            "grid_area": null,
            "grid_template_columns": null,
            "flex": null,
            "_model_name": "LayoutModel",
            "justify_items": null,
            "grid_row": null,
            "max_height": null,
            "align_content": null,
            "visibility": null,
            "align_self": null,
            "height": null,
            "min_height": null,
            "padding": null,
            "grid_auto_rows": null,
            "grid_gap": null,
            "max_width": null,
            "order": null,
            "_view_module_version": "1.2.0",
            "grid_template_areas": null,
            "object_position": null,
            "object_fit": null,
            "grid_auto_columns": null,
            "margin": null,
            "display": null,
            "left": null
          }
        },
        "fc741e7341af446e99b31250fcf7f5e0": {
          "model_module": "@jupyter-widgets/controls",
          "model_name": "IntProgressModel",
          "state": {
            "_view_name": "ProgressView",
            "style": "IPY_MODEL_e12a42ab745143a5b305b5cf58074b9e",
            "_dom_classes": [],
            "description": "Downloading: 100%",
            "_model_name": "IntProgressModel",
            "bar_style": "success",
            "max": 361,
            "_view_module": "@jupyter-widgets/controls",
            "_model_module_version": "1.5.0",
            "value": 361,
            "_view_count": null,
            "_view_module_version": "1.5.0",
            "orientation": "horizontal",
            "min": 0,
            "description_tooltip": null,
            "_model_module": "@jupyter-widgets/controls",
            "layout": "IPY_MODEL_456c7b1ff003480abee43d20da9afb2d"
          }
        },
        "c4caa77dd7f14bfd9589f4b98bb7cf4f": {
          "model_module": "@jupyter-widgets/controls",
          "model_name": "HTMLModel",
          "state": {
            "_view_name": "HTMLView",
            "style": "IPY_MODEL_c07c02edb7b946d1bf60ab1f13887116",
            "_dom_classes": [],
            "description": "",
            "_model_name": "HTMLModel",
            "placeholder": "​",
            "_view_module": "@jupyter-widgets/controls",
            "_model_module_version": "1.5.0",
            "value": " 361/361 [00:07&lt;00:00, 48.3B/s]",
            "_view_count": null,
            "_view_module_version": "1.5.0",
            "description_tooltip": null,
            "_model_module": "@jupyter-widgets/controls",
            "layout": "IPY_MODEL_5e9b578aa7ad4fc89391fad9b505576d"
          }
        },
        "e12a42ab745143a5b305b5cf58074b9e": {
          "model_module": "@jupyter-widgets/controls",
          "model_name": "ProgressStyleModel",
          "state": {
            "_view_name": "StyleView",
            "_model_name": "ProgressStyleModel",
            "description_width": "initial",
            "_view_module": "@jupyter-widgets/base",
            "_model_module_version": "1.5.0",
            "_view_count": null,
            "_view_module_version": "1.2.0",
            "bar_color": null,
            "_model_module": "@jupyter-widgets/controls"
          }
        },
        "456c7b1ff003480abee43d20da9afb2d": {
          "model_module": "@jupyter-widgets/base",
          "model_name": "LayoutModel",
          "state": {
            "_view_name": "LayoutView",
            "grid_template_rows": null,
            "right": null,
            "justify_content": null,
            "_view_module": "@jupyter-widgets/base",
            "overflow": null,
            "_model_module_version": "1.2.0",
            "_view_count": null,
            "flex_flow": null,
            "width": null,
            "min_width": null,
            "border": null,
            "align_items": null,
            "bottom": null,
            "_model_module": "@jupyter-widgets/base",
            "top": null,
            "grid_column": null,
            "overflow_y": null,
            "overflow_x": null,
            "grid_auto_flow": null,
            "grid_area": null,
            "grid_template_columns": null,
            "flex": null,
            "_model_name": "LayoutModel",
            "justify_items": null,
            "grid_row": null,
            "max_height": null,
            "align_content": null,
            "visibility": null,
            "align_self": null,
            "height": null,
            "min_height": null,
            "padding": null,
            "grid_auto_rows": null,
            "grid_gap": null,
            "max_width": null,
            "order": null,
            "_view_module_version": "1.2.0",
            "grid_template_areas": null,
            "object_position": null,
            "object_fit": null,
            "grid_auto_columns": null,
            "margin": null,
            "display": null,
            "left": null
          }
        },
        "c07c02edb7b946d1bf60ab1f13887116": {
          "model_module": "@jupyter-widgets/controls",
          "model_name": "DescriptionStyleModel",
          "state": {
            "_view_name": "StyleView",
            "_model_name": "DescriptionStyleModel",
            "description_width": "",
            "_view_module": "@jupyter-widgets/base",
            "_model_module_version": "1.5.0",
            "_view_count": null,
            "_view_module_version": "1.2.0",
            "_model_module": "@jupyter-widgets/controls"
          }
        },
        "5e9b578aa7ad4fc89391fad9b505576d": {
          "model_module": "@jupyter-widgets/base",
          "model_name": "LayoutModel",
          "state": {
            "_view_name": "LayoutView",
            "grid_template_rows": null,
            "right": null,
            "justify_content": null,
            "_view_module": "@jupyter-widgets/base",
            "overflow": null,
            "_model_module_version": "1.2.0",
            "_view_count": null,
            "flex_flow": null,
            "width": null,
            "min_width": null,
            "border": null,
            "align_items": null,
            "bottom": null,
            "_model_module": "@jupyter-widgets/base",
            "top": null,
            "grid_column": null,
            "overflow_y": null,
            "overflow_x": null,
            "grid_auto_flow": null,
            "grid_area": null,
            "grid_template_columns": null,
            "flex": null,
            "_model_name": "LayoutModel",
            "justify_items": null,
            "grid_row": null,
            "max_height": null,
            "align_content": null,
            "visibility": null,
            "align_self": null,
            "height": null,
            "min_height": null,
            "padding": null,
            "grid_auto_rows": null,
            "grid_gap": null,
            "max_width": null,
            "order": null,
            "_view_module_version": "1.2.0",
            "grid_template_areas": null,
            "object_position": null,
            "object_fit": null,
            "grid_auto_columns": null,
            "margin": null,
            "display": null,
            "left": null
          }
        },
        "457baecf50de4fd2bc5471978330f97d": {
          "model_module": "@jupyter-widgets/controls",
          "model_name": "HBoxModel",
          "state": {
            "_view_name": "HBoxView",
            "_dom_classes": [],
            "_model_name": "HBoxModel",
            "_view_module": "@jupyter-widgets/controls",
            "_model_module_version": "1.5.0",
            "_view_count": null,
            "_view_module_version": "1.5.0",
            "box_style": "",
            "layout": "IPY_MODEL_a50d40a9de714f94a49ca467f1d5352b",
            "_model_module": "@jupyter-widgets/controls",
            "children": [
              "IPY_MODEL_71d602ad98e94297ab02cfdcfd8f22c4",
              "IPY_MODEL_0c2f3f9a65cb4ae2838d2016bbf950be"
            ]
          }
        },
        "a50d40a9de714f94a49ca467f1d5352b": {
          "model_module": "@jupyter-widgets/base",
          "model_name": "LayoutModel",
          "state": {
            "_view_name": "LayoutView",
            "grid_template_rows": null,
            "right": null,
            "justify_content": null,
            "_view_module": "@jupyter-widgets/base",
            "overflow": null,
            "_model_module_version": "1.2.0",
            "_view_count": null,
            "flex_flow": null,
            "width": null,
            "min_width": null,
            "border": null,
            "align_items": null,
            "bottom": null,
            "_model_module": "@jupyter-widgets/base",
            "top": null,
            "grid_column": null,
            "overflow_y": null,
            "overflow_x": null,
            "grid_auto_flow": null,
            "grid_area": null,
            "grid_template_columns": null,
            "flex": null,
            "_model_name": "LayoutModel",
            "justify_items": null,
            "grid_row": null,
            "max_height": null,
            "align_content": null,
            "visibility": null,
            "align_self": null,
            "height": null,
            "min_height": null,
            "padding": null,
            "grid_auto_rows": null,
            "grid_gap": null,
            "max_width": null,
            "order": null,
            "_view_module_version": "1.2.0",
            "grid_template_areas": null,
            "object_position": null,
            "object_fit": null,
            "grid_auto_columns": null,
            "margin": null,
            "display": null,
            "left": null
          }
        },
        "71d602ad98e94297ab02cfdcfd8f22c4": {
          "model_module": "@jupyter-widgets/controls",
          "model_name": "IntProgressModel",
          "state": {
            "_view_name": "ProgressView",
            "style": "IPY_MODEL_5330ff0ba90640e687e408fdc1bd416f",
            "_dom_classes": [],
            "description": "Downloading: 100%",
            "_model_name": "IntProgressModel",
            "bar_style": "success",
            "max": 440473133,
            "_view_module": "@jupyter-widgets/controls",
            "_model_module_version": "1.5.0",
            "value": 440473133,
            "_view_count": null,
            "_view_module_version": "1.5.0",
            "orientation": "horizontal",
            "min": 0,
            "description_tooltip": null,
            "_model_module": "@jupyter-widgets/controls",
            "layout": "IPY_MODEL_348b33a278a54ca7a0991bc757ad3fa8"
          }
        },
        "0c2f3f9a65cb4ae2838d2016bbf950be": {
          "model_module": "@jupyter-widgets/controls",
          "model_name": "HTMLModel",
          "state": {
            "_view_name": "HTMLView",
            "style": "IPY_MODEL_da84fa8874ad4f79a5d7be69c4e59f31",
            "_dom_classes": [],
            "description": "",
            "_model_name": "HTMLModel",
            "placeholder": "​",
            "_view_module": "@jupyter-widgets/controls",
            "_model_module_version": "1.5.0",
            "value": " 440M/440M [00:07&lt;00:00, 60.6MB/s]",
            "_view_count": null,
            "_view_module_version": "1.5.0",
            "description_tooltip": null,
            "_model_module": "@jupyter-widgets/controls",
            "layout": "IPY_MODEL_0c8a1dd2db374b3d93f13aab76df78c5"
          }
        },
        "5330ff0ba90640e687e408fdc1bd416f": {
          "model_module": "@jupyter-widgets/controls",
          "model_name": "ProgressStyleModel",
          "state": {
            "_view_name": "StyleView",
            "_model_name": "ProgressStyleModel",
            "description_width": "initial",
            "_view_module": "@jupyter-widgets/base",
            "_model_module_version": "1.5.0",
            "_view_count": null,
            "_view_module_version": "1.2.0",
            "bar_color": null,
            "_model_module": "@jupyter-widgets/controls"
          }
        },
        "348b33a278a54ca7a0991bc757ad3fa8": {
          "model_module": "@jupyter-widgets/base",
          "model_name": "LayoutModel",
          "state": {
            "_view_name": "LayoutView",
            "grid_template_rows": null,
            "right": null,
            "justify_content": null,
            "_view_module": "@jupyter-widgets/base",
            "overflow": null,
            "_model_module_version": "1.2.0",
            "_view_count": null,
            "flex_flow": null,
            "width": null,
            "min_width": null,
            "border": null,
            "align_items": null,
            "bottom": null,
            "_model_module": "@jupyter-widgets/base",
            "top": null,
            "grid_column": null,
            "overflow_y": null,
            "overflow_x": null,
            "grid_auto_flow": null,
            "grid_area": null,
            "grid_template_columns": null,
            "flex": null,
            "_model_name": "LayoutModel",
            "justify_items": null,
            "grid_row": null,
            "max_height": null,
            "align_content": null,
            "visibility": null,
            "align_self": null,
            "height": null,
            "min_height": null,
            "padding": null,
            "grid_auto_rows": null,
            "grid_gap": null,
            "max_width": null,
            "order": null,
            "_view_module_version": "1.2.0",
            "grid_template_areas": null,
            "object_position": null,
            "object_fit": null,
            "grid_auto_columns": null,
            "margin": null,
            "display": null,
            "left": null
          }
        },
        "da84fa8874ad4f79a5d7be69c4e59f31": {
          "model_module": "@jupyter-widgets/controls",
          "model_name": "DescriptionStyleModel",
          "state": {
            "_view_name": "StyleView",
            "_model_name": "DescriptionStyleModel",
            "description_width": "",
            "_view_module": "@jupyter-widgets/base",
            "_model_module_version": "1.5.0",
            "_view_count": null,
            "_view_module_version": "1.2.0",
            "_model_module": "@jupyter-widgets/controls"
          }
        },
        "0c8a1dd2db374b3d93f13aab76df78c5": {
          "model_module": "@jupyter-widgets/base",
          "model_name": "LayoutModel",
          "state": {
            "_view_name": "LayoutView",
            "grid_template_rows": null,
            "right": null,
            "justify_content": null,
            "_view_module": "@jupyter-widgets/base",
            "overflow": null,
            "_model_module_version": "1.2.0",
            "_view_count": null,
            "flex_flow": null,
            "width": null,
            "min_width": null,
            "border": null,
            "align_items": null,
            "bottom": null,
            "_model_module": "@jupyter-widgets/base",
            "top": null,
            "grid_column": null,
            "overflow_y": null,
            "overflow_x": null,
            "grid_auto_flow": null,
            "grid_area": null,
            "grid_template_columns": null,
            "flex": null,
            "_model_name": "LayoutModel",
            "justify_items": null,
            "grid_row": null,
            "max_height": null,
            "align_content": null,
            "visibility": null,
            "align_self": null,
            "height": null,
            "min_height": null,
            "padding": null,
            "grid_auto_rows": null,
            "grid_gap": null,
            "max_width": null,
            "order": null,
            "_view_module_version": "1.2.0",
            "grid_template_areas": null,
            "object_position": null,
            "object_fit": null,
            "grid_auto_columns": null,
            "margin": null,
            "display": null,
            "left": null
          }
        }
      }
    }
  },
  "cells": [
    {
      "cell_type": "markdown",
      "metadata": {
        "id": "view-in-github",
        "colab_type": "text"
      },
      "source": [
        "<a href=\"https://colab.research.google.com/github/shreeshaa/BDA-homework-1/blob/master/WSCNN4150.ipynb\" target=\"_parent\"><img src=\"https://colab.research.google.com/assets/colab-badge.svg\" alt=\"Open In Colab\"/></a>"
      ]
    },
    {
      "cell_type": "code",
      "metadata": {
        "id": "8cg4bAlndiy4",
        "colab_type": "code",
        "colab": {
          "base_uri": "https://localhost:8080/",
          "height": 1000,
          "referenced_widgets": [
            "66d2bd7d40884008b44e60e78c157e25",
            "1b85c402b995405e825f4855d941a641",
            "293b5061be7f4c92a26b0a6561ccf4c2",
            "11f35fa2681a4c44ad0d21741e079cbd",
            "e8dc50c0816f43539d979e3993d3d86f",
            "66d9fca28c4545238ae3b09fd6864967",
            "5612c57aaebc4365a3afeac8a353ff07",
            "e4baff88b4d24340b85e9e2ee9109c9e",
            "d1bba6855fbe4834bbb691ed011ece79",
            "289eec200e4f441b940a0daa23e7411f",
            "fc741e7341af446e99b31250fcf7f5e0",
            "c4caa77dd7f14bfd9589f4b98bb7cf4f",
            "e12a42ab745143a5b305b5cf58074b9e",
            "456c7b1ff003480abee43d20da9afb2d",
            "c07c02edb7b946d1bf60ab1f13887116",
            "5e9b578aa7ad4fc89391fad9b505576d",
            "457baecf50de4fd2bc5471978330f97d",
            "a50d40a9de714f94a49ca467f1d5352b",
            "71d602ad98e94297ab02cfdcfd8f22c4",
            "0c2f3f9a65cb4ae2838d2016bbf950be",
            "5330ff0ba90640e687e408fdc1bd416f",
            "348b33a278a54ca7a0991bc757ad3fa8",
            "da84fa8874ad4f79a5d7be69c4e59f31",
            "0c8a1dd2db374b3d93f13aab76df78c5"
          ]
        },
        "outputId": "f31a8af4-0413-4834-892b-260a31c4f826"
      },
      "source": [
        "!pip install tweet-preprocessor\n",
        "import pandas as pd\n",
        "import numpy as np\n",
        "import scipy as sp\n",
        "import re\n",
        "import nltk\n",
        "from bs4 import BeautifulSoup\n",
        "from nltk.corpus import stopwords\n",
        "from copy import deepcopy\n",
        "from bs4 import BeautifulSoup\n",
        "import nltk\n",
        "nltk.download('stopwords')\n",
        "from nltk.stem import PorterStemmer \n",
        "\n",
        "import preprocessor as p\n",
        "\n",
        "from google.colab import drive\n",
        "drive.mount('/content/drive')\n",
        "\n",
        "data = pd.read_csv(\"/content/drive/My Drive/WebProject/labeledTrainData.csv\", delimiter=\"\\t\",names=[\"tweet\", \"label\", \"labelValue\"])\n",
        "\n",
        "data[\"label\"].replace({\"spam\": \"neutral\", \"normal\": \"neutral\"}, inplace=True)\n",
        "data[\"label\"].replace({\"neutral\":1, \"abusive\": 2,\"hateful\":3}, inplace=True)\n",
        "\n",
        "def preprocess_tweet(tweet):\n",
        "\n",
        "    # 1. Remove URLs, emojis, mentions, smileys using tweet-preprocessor library\n",
        "    # should not remove hashtags as hashtags contains important tweet content.\n",
        "    \n",
        "    #p.set_options(p.OPT.URL, p.OPT.EMOJI, p.OPT.MENTION,p.OPT.RESERVED,\tp.OPT.SMILEY,p.OPT.NUMBER)\n",
        "    clean = p.clean(tweet)\n",
        "    # 2. Remove HTML tags using Beautiful soup library\n",
        "    no_tag = BeautifulSoup(clean).get_text()\n",
        "\n",
        "    # 3. Expanding hashtags.\n",
        "    \n",
        "    #tweets_expanded = expand_hashtags(no_tag)\n",
        "\n",
        "    # 4. Remove non letter char using re\n",
        "    letters_only = re.sub(\"[^a-zA-Z]\",\" \", no_tag)\n",
        "    #letters_only = re.sub(\"[^a-zA-Z]\",\" \", tweets_expanded)\n",
        "    \n",
        "    # 5. Convert to lower case\n",
        "    lower_case = letters_only.lower()\n",
        "    words = lower_case.split()\n",
        "\n",
        "    new_words = []\n",
        "    # ps = PorterStemmer() \n",
        "    # for w in words:\n",
        "    #     new_words.append(ps.stem(w))\n",
        "    for w in words:\n",
        "        new_words.append(w)\n",
        "    # print(new_words[0:4])\n",
        "    # 5. Remove stop words\n",
        "    # stops = set(stopwords.words(\"english\")) \n",
        "    # final_words = [w for w in new_words if not w in stops]\n",
        "    final_words = new_words\n",
        "\n",
        "    return(\" \".join( final_words ))\n",
        "\n",
        "data[\"tweet\"][0]\n",
        "\n",
        "num_tweets = data[\"tweet\"].size\n",
        "# print(num_tweets)\n",
        "for i in range(num_tweets):\n",
        "    data[\"tweet\"][i] = preprocess_tweet(data[\"tweet\"][i])\n",
        "\n",
        "data\n",
        "\n",
        "hateful = data[\"label\"]==3\n",
        "hateful = data[hateful]\n",
        "# hateful = hateful.sample(frac=1)\n",
        "# hateful = hateful.reset_index(drop=True)\n",
        "# hateful = hateful[:4333]\n",
        "hateful['hateful'] = 1\n",
        "hateful['abusive'] = 0\n",
        "hateful['neutral'] = 0\n",
        "\n",
        "hateful\n",
        "\n",
        "abusive = data[\"label\"]==2\n",
        "abusive = data[abusive]\n",
        "# abusive = abusive.sample(frac=1)\n",
        "# abusive = abusive.reset_index(drop=True)\n",
        "# abusive = abusive[:4333]\n",
        "abusive['hateful'] = 0\n",
        "abusive['abusive'] = 1\n",
        "abusive['neutral'] = 0\n",
        "\n",
        "abusive\n",
        "\n",
        "neutral = data[\"label\"]==1\n",
        "neutral = data[neutral]\n",
        "# neutral = neutral.sample(frac=1)\n",
        "# neutral = neutral.reset_index(drop=True)\n",
        "# neutral = neutral[:4334]\n",
        "neutral['hateful'] = 0\n",
        "neutral['abusive'] = 0\n",
        "neutral['neutral'] = 1\n",
        "\n",
        "union = pd.concat([hateful, abusive,neutral])\n",
        "\n",
        "union = union.sample(frac=1, random_state=1).reset_index(drop=True)\n",
        "\n",
        "union.shape\n",
        "\n",
        "union\n",
        "\n",
        "train = union[:69996]\n",
        "validation = union[69996:79996]\n",
        "test = union[79996:99996]\n",
        "\n",
        "train[train[\"label\"] == 3]\n",
        "\n",
        "%matplotlib inline\n",
        "\n",
        "!pip install transformers\n",
        "\n",
        "import logging\n",
        "import time\n",
        "from platform import python_version\n",
        "\n",
        "import matplotlib\n",
        "import matplotlib.pyplot as plt\n",
        "import numpy as np\n",
        "import pandas as pd\n",
        "import sklearn\n",
        "import torch\n",
        "import torch.nn as nn\n",
        "import torch.nn.functional as F\n",
        "import transformers\n",
        "from sklearn.metrics import roc_auc_score\n",
        "from torch.autograd import Variable\n",
        "\n",
        "model_class = transformers.BertModel\n",
        "tokenizer_class = transformers.BertTokenizer\n",
        "pretrained_weights='bert-base-uncased'\n",
        "# Load pretrained model/tokenizer\n",
        "tokenizer = tokenizer_class.from_pretrained(pretrained_weights)\n",
        "bert_model = model_class.from_pretrained(pretrained_weights)\n",
        "\n",
        "max_seq = 100\n",
        "target_columns = [\"hateful\", \"abusive\", \"neutral\"]\n",
        "\n",
        "def tokenize_text(df, max_seq):\n",
        "    return [\n",
        "        tokenizer.encode(text, add_special_tokens=True)[:max_seq] for text in df.tweet.values\n",
        "    ]\n",
        "\n",
        "\n",
        "def pad_text(tokenized_text, max_seq):\n",
        "    return np.array([el + [0] * (max_seq - len(el)) for el in tokenized_text])\n",
        "\n",
        "\n",
        "def tokenize_and_pad_text(df, max_seq):\n",
        "    tokenized_text = tokenize_text(df, max_seq)\n",
        "    padded_text = pad_text(tokenized_text, max_seq)\n",
        "    return torch.tensor(padded_text)\n",
        "\n",
        "\n",
        "def targets_to_tensor(df):\n",
        "    return torch.tensor(df[target_columns].values, dtype=torch.float32)\n",
        "\n",
        "train_indices = tokenize_and_pad_text(train, max_seq)\n",
        "val_indices = tokenize_and_pad_text(validation, max_seq)\n",
        "test_indices = tokenize_and_pad_text(test, max_seq)\n",
        "\n",
        "train_indices.shape\n",
        "\n",
        "with torch.no_grad():\n",
        "  for i in range(10,20):\n",
        "    if i == 10:\n",
        "      x_train = bert_model(train_indices[:1000])[0]\n",
        "      x_val = bert_model(val_indices[:1000])[0]\n",
        "      x_test = bert_model(test_indices[:1000])[0]\n",
        "    else:\n",
        "      x_train = torch.cat((x_train,bert_model(train_indices[i*1000:(i+1)*1000])[0]),dim=0)\n",
        "      x_val = torch.cat((x_val,bert_model(val_indices[i*1000:(i+1)*1000])[0]),dim=0)\n",
        "      x_test = torch.cat((x_test,bert_model(test_indices[i*1000:(i+1)*1000])[0]),dim=0)\n",
        "\n",
        "x_train"
      ],
      "execution_count": 1,
      "outputs": [
        {
          "output_type": "stream",
          "text": [
            "Collecting tweet-preprocessor\n",
            "  Downloading https://files.pythonhosted.org/packages/2a/f8/810ec35c31cca89bc4f1a02c14b042b9ec6c19dd21f7ef1876874ef069a6/tweet-preprocessor-0.5.0.tar.gz\n",
            "Building wheels for collected packages: tweet-preprocessor\n",
            "  Building wheel for tweet-preprocessor (setup.py) ... \u001b[?25l\u001b[?25hdone\n",
            "  Created wheel for tweet-preprocessor: filename=tweet_preprocessor-0.5.0-cp36-none-any.whl size=7947 sha256=d9aa3e3ef2cde5e94f50cee6baf129e2516be4aeb7745d338062127a29bbfac6\n",
            "  Stored in directory: /root/.cache/pip/wheels/1b/27/cc/49938e98a2470802ebdefae9d2b3f524768e970c1ebbe2dc4a\n",
            "Successfully built tweet-preprocessor\n",
            "Installing collected packages: tweet-preprocessor\n",
            "Successfully installed tweet-preprocessor-0.5.0\n",
            "[nltk_data] Downloading package stopwords to /root/nltk_data...\n",
            "[nltk_data]   Unzipping corpora/stopwords.zip.\n",
            "Go to this URL in a browser: https://accounts.google.com/o/oauth2/auth?client_id=947318989803-6bn6qk8qdgf4n4g3pfee6491hc0brc4i.apps.googleusercontent.com&redirect_uri=urn%3aietf%3awg%3aoauth%3a2.0%3aoob&response_type=code&scope=email%20https%3a%2f%2fwww.googleapis.com%2fauth%2fdocs.test%20https%3a%2f%2fwww.googleapis.com%2fauth%2fdrive%20https%3a%2f%2fwww.googleapis.com%2fauth%2fdrive.photos.readonly%20https%3a%2f%2fwww.googleapis.com%2fauth%2fpeopleapi.readonly\n",
            "\n",
            "Enter your authorization code:\n",
            "··········\n",
            "Mounted at /content/drive\n"
          ],
          "name": "stdout"
        },
        {
          "output_type": "stream",
          "text": [
            "/usr/local/lib/python3.6/dist-packages/ipykernel_launcher.py:66: SettingWithCopyWarning: \n",
            "A value is trying to be set on a copy of a slice from a DataFrame\n",
            "\n",
            "See the caveats in the documentation: https://pandas.pydata.org/pandas-docs/stable/user_guide/indexing.html#returning-a-view-versus-a-copy\n",
            "/usr/local/lib/python3.6/dist-packages/ipykernel_launcher.py:75: SettingWithCopyWarning: \n",
            "A value is trying to be set on a copy of a slice from a DataFrame.\n",
            "Try using .loc[row_indexer,col_indexer] = value instead\n",
            "\n",
            "See the caveats in the documentation: https://pandas.pydata.org/pandas-docs/stable/user_guide/indexing.html#returning-a-view-versus-a-copy\n",
            "/usr/local/lib/python3.6/dist-packages/ipykernel_launcher.py:76: SettingWithCopyWarning: \n",
            "A value is trying to be set on a copy of a slice from a DataFrame.\n",
            "Try using .loc[row_indexer,col_indexer] = value instead\n",
            "\n",
            "See the caveats in the documentation: https://pandas.pydata.org/pandas-docs/stable/user_guide/indexing.html#returning-a-view-versus-a-copy\n",
            "/usr/local/lib/python3.6/dist-packages/ipykernel_launcher.py:77: SettingWithCopyWarning: \n",
            "A value is trying to be set on a copy of a slice from a DataFrame.\n",
            "Try using .loc[row_indexer,col_indexer] = value instead\n",
            "\n",
            "See the caveats in the documentation: https://pandas.pydata.org/pandas-docs/stable/user_guide/indexing.html#returning-a-view-versus-a-copy\n",
            "/usr/local/lib/python3.6/dist-packages/ipykernel_launcher.py:86: SettingWithCopyWarning: \n",
            "A value is trying to be set on a copy of a slice from a DataFrame.\n",
            "Try using .loc[row_indexer,col_indexer] = value instead\n",
            "\n",
            "See the caveats in the documentation: https://pandas.pydata.org/pandas-docs/stable/user_guide/indexing.html#returning-a-view-versus-a-copy\n",
            "/usr/local/lib/python3.6/dist-packages/ipykernel_launcher.py:87: SettingWithCopyWarning: \n",
            "A value is trying to be set on a copy of a slice from a DataFrame.\n",
            "Try using .loc[row_indexer,col_indexer] = value instead\n",
            "\n",
            "See the caveats in the documentation: https://pandas.pydata.org/pandas-docs/stable/user_guide/indexing.html#returning-a-view-versus-a-copy\n",
            "/usr/local/lib/python3.6/dist-packages/ipykernel_launcher.py:88: SettingWithCopyWarning: \n",
            "A value is trying to be set on a copy of a slice from a DataFrame.\n",
            "Try using .loc[row_indexer,col_indexer] = value instead\n",
            "\n",
            "See the caveats in the documentation: https://pandas.pydata.org/pandas-docs/stable/user_guide/indexing.html#returning-a-view-versus-a-copy\n",
            "/usr/local/lib/python3.6/dist-packages/ipykernel_launcher.py:97: SettingWithCopyWarning: \n",
            "A value is trying to be set on a copy of a slice from a DataFrame.\n",
            "Try using .loc[row_indexer,col_indexer] = value instead\n",
            "\n",
            "See the caveats in the documentation: https://pandas.pydata.org/pandas-docs/stable/user_guide/indexing.html#returning-a-view-versus-a-copy\n",
            "/usr/local/lib/python3.6/dist-packages/ipykernel_launcher.py:98: SettingWithCopyWarning: \n",
            "A value is trying to be set on a copy of a slice from a DataFrame.\n",
            "Try using .loc[row_indexer,col_indexer] = value instead\n",
            "\n",
            "See the caveats in the documentation: https://pandas.pydata.org/pandas-docs/stable/user_guide/indexing.html#returning-a-view-versus-a-copy\n",
            "/usr/local/lib/python3.6/dist-packages/ipykernel_launcher.py:99: SettingWithCopyWarning: \n",
            "A value is trying to be set on a copy of a slice from a DataFrame.\n",
            "Try using .loc[row_indexer,col_indexer] = value instead\n",
            "\n",
            "See the caveats in the documentation: https://pandas.pydata.org/pandas-docs/stable/user_guide/indexing.html#returning-a-view-versus-a-copy\n"
          ],
          "name": "stderr"
        },
        {
          "output_type": "stream",
          "text": [
            "Collecting transformers\n",
            "\u001b[?25l  Downloading https://files.pythonhosted.org/packages/a3/78/92cedda05552398352ed9784908b834ee32a0bd071a9b32de287327370b7/transformers-2.8.0-py3-none-any.whl (563kB)\n",
            "\u001b[K     |████████████████████████████████| 573kB 2.8MB/s \n",
            "\u001b[?25hRequirement already satisfied: boto3 in /usr/local/lib/python3.6/dist-packages (from transformers) (1.12.40)\n",
            "Requirement already satisfied: dataclasses; python_version < \"3.7\" in /usr/local/lib/python3.6/dist-packages (from transformers) (0.7)\n",
            "Requirement already satisfied: tqdm>=4.27 in /usr/local/lib/python3.6/dist-packages (from transformers) (4.38.0)\n",
            "Requirement already satisfied: requests in /usr/local/lib/python3.6/dist-packages (from transformers) (2.21.0)\n",
            "Collecting tokenizers==0.5.2\n",
            "\u001b[?25l  Downloading https://files.pythonhosted.org/packages/d1/3f/73c881ea4723e43c1e9acf317cf407fab3a278daab3a69c98dcac511c04f/tokenizers-0.5.2-cp36-cp36m-manylinux1_x86_64.whl (3.7MB)\n",
            "\u001b[K     |████████████████████████████████| 3.7MB 11.0MB/s \n",
            "\u001b[?25hCollecting sentencepiece\n",
            "\u001b[?25l  Downloading https://files.pythonhosted.org/packages/74/f4/2d5214cbf13d06e7cb2c20d84115ca25b53ea76fa1f0ade0e3c9749de214/sentencepiece-0.1.85-cp36-cp36m-manylinux1_x86_64.whl (1.0MB)\n",
            "\u001b[K     |████████████████████████████████| 1.0MB 41.0MB/s \n",
            "\u001b[?25hRequirement already satisfied: filelock in /usr/local/lib/python3.6/dist-packages (from transformers) (3.0.12)\n",
            "Requirement already satisfied: numpy in /usr/local/lib/python3.6/dist-packages (from transformers) (1.18.2)\n",
            "Collecting sacremoses\n",
            "\u001b[?25l  Downloading https://files.pythonhosted.org/packages/99/50/93509f906a40bffd7d175f97fd75ea328ad9bd91f48f59c4bd084c94a25e/sacremoses-0.0.41.tar.gz (883kB)\n",
            "\u001b[K     |████████████████████████████████| 890kB 48.9MB/s \n",
            "\u001b[?25hRequirement already satisfied: regex!=2019.12.17 in /usr/local/lib/python3.6/dist-packages (from transformers) (2019.12.20)\n",
            "Requirement already satisfied: s3transfer<0.4.0,>=0.3.0 in /usr/local/lib/python3.6/dist-packages (from boto3->transformers) (0.3.3)\n",
            "Requirement already satisfied: jmespath<1.0.0,>=0.7.1 in /usr/local/lib/python3.6/dist-packages (from boto3->transformers) (0.9.5)\n",
            "Requirement already satisfied: botocore<1.16.0,>=1.15.40 in /usr/local/lib/python3.6/dist-packages (from boto3->transformers) (1.15.40)\n",
            "Requirement already satisfied: chardet<3.1.0,>=3.0.2 in /usr/local/lib/python3.6/dist-packages (from requests->transformers) (3.0.4)\n",
            "Requirement already satisfied: idna<2.9,>=2.5 in /usr/local/lib/python3.6/dist-packages (from requests->transformers) (2.8)\n",
            "Requirement already satisfied: certifi>=2017.4.17 in /usr/local/lib/python3.6/dist-packages (from requests->transformers) (2020.4.5.1)\n",
            "Requirement already satisfied: urllib3<1.25,>=1.21.1 in /usr/local/lib/python3.6/dist-packages (from requests->transformers) (1.24.3)\n",
            "Requirement already satisfied: six in /usr/local/lib/python3.6/dist-packages (from sacremoses->transformers) (1.12.0)\n",
            "Requirement already satisfied: click in /usr/local/lib/python3.6/dist-packages (from sacremoses->transformers) (7.1.1)\n",
            "Requirement already satisfied: joblib in /usr/local/lib/python3.6/dist-packages (from sacremoses->transformers) (0.14.1)\n",
            "Requirement already satisfied: docutils<0.16,>=0.10 in /usr/local/lib/python3.6/dist-packages (from botocore<1.16.0,>=1.15.40->boto3->transformers) (0.15.2)\n",
            "Requirement already satisfied: python-dateutil<3.0.0,>=2.1 in /usr/local/lib/python3.6/dist-packages (from botocore<1.16.0,>=1.15.40->boto3->transformers) (2.8.1)\n",
            "Building wheels for collected packages: sacremoses\n",
            "  Building wheel for sacremoses (setup.py) ... \u001b[?25l\u001b[?25hdone\n",
            "  Created wheel for sacremoses: filename=sacremoses-0.0.41-cp36-none-any.whl size=893334 sha256=85958e5fdffeb527427911fe447dae854b6b6b6b972a086962bcb0912bf53493\n",
            "  Stored in directory: /root/.cache/pip/wheels/22/5a/d4/b020a81249de7dc63758a34222feaa668dbe8ebfe9170cc9b1\n",
            "Successfully built sacremoses\n",
            "Installing collected packages: tokenizers, sentencepiece, sacremoses, transformers\n",
            "Successfully installed sacremoses-0.0.41 sentencepiece-0.1.85 tokenizers-0.5.2 transformers-2.8.0\n"
          ],
          "name": "stdout"
        },
        {
          "output_type": "display_data",
          "data": {
            "application/vnd.jupyter.widget-view+json": {
              "model_id": "66d2bd7d40884008b44e60e78c157e25",
              "version_minor": 0,
              "version_major": 2
            },
            "text/plain": [
              "HBox(children=(IntProgress(value=0, description='Downloading', max=231508, style=ProgressStyle(description_wid…"
            ]
          },
          "metadata": {
            "tags": []
          }
        },
        {
          "output_type": "stream",
          "text": [
            "\n"
          ],
          "name": "stdout"
        },
        {
          "output_type": "display_data",
          "data": {
            "application/vnd.jupyter.widget-view+json": {
              "model_id": "d1bba6855fbe4834bbb691ed011ece79",
              "version_minor": 0,
              "version_major": 2
            },
            "text/plain": [
              "HBox(children=(IntProgress(value=0, description='Downloading', max=361, style=ProgressStyle(description_width=…"
            ]
          },
          "metadata": {
            "tags": []
          }
        },
        {
          "output_type": "stream",
          "text": [
            "\n"
          ],
          "name": "stdout"
        },
        {
          "output_type": "display_data",
          "data": {
            "application/vnd.jupyter.widget-view+json": {
              "model_id": "457baecf50de4fd2bc5471978330f97d",
              "version_minor": 0,
              "version_major": 2
            },
            "text/plain": [
              "HBox(children=(IntProgress(value=0, description='Downloading', max=440473133, style=ProgressStyle(description_…"
            ]
          },
          "metadata": {
            "tags": []
          }
        },
        {
          "output_type": "stream",
          "text": [
            "\n"
          ],
          "name": "stdout"
        },
        {
          "output_type": "execute_result",
          "data": {
            "text/plain": [
              "tensor([[[-0.4374,  0.3052,  0.4779,  ..., -0.2994,  0.4771, -0.5297],\n",
              "         [-0.3174,  0.2385,  0.3197,  ..., -0.4987,  0.4756,  0.2309],\n",
              "         [-0.1331,  0.2687,  1.1933,  ..., -0.3334,  0.5221,  0.4827],\n",
              "         ...,\n",
              "         [ 0.2037, -0.1072,  0.9296,  ..., -0.5398,  0.2554, -0.8074],\n",
              "         [ 0.1017, -0.1093,  0.9060,  ..., -0.5195,  0.1509, -0.7584],\n",
              "         [ 0.1147,  0.0751,  0.8272,  ..., -0.5050,  0.1400, -0.8131]],\n",
              "\n",
              "        [[-0.5415,  0.3170,  0.4304,  ..., -0.4812,  0.4469, -0.4659],\n",
              "         [-0.2192,  0.6637, -0.0265,  ..., -0.6692,  0.1630, -0.3818],\n",
              "         [-0.4265,  0.4721,  0.2064,  ..., -0.3100,  0.0573,  0.3148],\n",
              "         ...,\n",
              "         [ 0.0918, -0.2180,  0.9180,  ..., -0.5563,  0.2320, -0.7675],\n",
              "         [-0.0831, -0.1838,  0.9331,  ..., -0.5530,  0.1662, -0.6904],\n",
              "         [-0.0162,  0.0234,  0.8659,  ..., -0.6017,  0.1680, -0.8301]],\n",
              "\n",
              "        [[-0.4318,  0.4026,  0.4854,  ..., -0.3491,  0.5271, -0.5924],\n",
              "         [ 0.1241,  1.6540,  0.7956,  ...,  0.1752,  0.6345,  0.2688],\n",
              "         [ 1.3051,  1.2358,  1.2250,  ...,  0.3098, -0.0617, -1.6389],\n",
              "         ...,\n",
              "         [ 0.2506, -0.1778,  0.9618,  ..., -0.6024,  0.1915, -0.8969],\n",
              "         [ 0.1558, -0.1798,  0.9396,  ..., -0.5839,  0.0904, -0.8475],\n",
              "         [ 0.1640,  0.0100,  0.8487,  ..., -0.5656,  0.0792, -0.8899]],\n",
              "\n",
              "        ...,\n",
              "\n",
              "        [[-0.5471,  0.2386,  0.3977,  ..., -0.3418,  0.5504, -0.7546],\n",
              "         [ 0.1254,  0.3356, -0.0782,  ...,  0.1467,  1.1154, -0.6413],\n",
              "         [-0.6411, -0.0958,  0.5156,  ..., -0.0036,  0.3539, -0.0585],\n",
              "         ...,\n",
              "         [ 0.2996, -0.2211,  0.9437,  ..., -0.5717,  0.2141, -1.0285],\n",
              "         [ 0.1945, -0.2451,  0.9475,  ..., -0.5527,  0.1255, -0.9607],\n",
              "         [ 0.1920, -0.0594,  0.8550,  ..., -0.5648,  0.0976, -1.0566]],\n",
              "\n",
              "        [[-0.4747,  0.4773,  0.4308,  ..., -0.4748,  0.5122, -0.5457],\n",
              "         [-1.2563,  0.5700,  0.2791,  ..., -0.3028,  0.1546,  0.7195],\n",
              "         [-0.2436,  0.7905,  0.6045,  ..., -0.5172,  0.2273, -0.4907],\n",
              "         ...,\n",
              "         [ 0.1143, -0.0591,  0.9820,  ..., -0.6154,  0.2074, -0.9041],\n",
              "         [ 0.0422, -0.0992,  0.9677,  ..., -0.5975,  0.1133, -0.8504],\n",
              "         [ 0.0516,  0.0962,  0.9188,  ..., -0.5893,  0.0971, -0.9128]],\n",
              "\n",
              "        [[-0.3040,  0.5538,  0.4454,  ..., -0.6287,  0.5096, -0.5533],\n",
              "         [-0.9351,  0.6255,  1.3199,  ..., -0.1373,  0.8271, -0.0303],\n",
              "         [ 0.9712,  0.6653,  1.2659,  ..., -0.4989,  1.2441,  0.7700],\n",
              "         ...,\n",
              "         [ 0.1298,  0.0971,  1.0132,  ..., -0.6891,  0.2327, -0.8708],\n",
              "         [ 0.0706,  0.0979,  0.9918,  ..., -0.6851,  0.1552, -0.7959],\n",
              "         [ 0.0373,  0.2690,  0.9307,  ..., -0.6759,  0.1356, -0.8163]]])"
            ]
          },
          "metadata": {
            "tags": []
          },
          "execution_count": 1
        }
      ]
    },
    {
      "cell_type": "code",
      "metadata": {
        "id": "HfWd4mMd3Jlo",
        "colab_type": "code",
        "colab": {}
      },
      "source": [
        "torch.save(x_train,'xtrain1020.pt')\n",
        "torch.save(x_val,'xval1020.pt')\n",
        "torch.save(x_test,'xtest1020.pt')"
      ],
      "execution_count": 0,
      "outputs": []
    },
    {
      "cell_type": "code",
      "metadata": {
        "id": "mvaVFiCo7IdQ",
        "colab_type": "code",
        "colab": {
          "base_uri": "https://localhost:8080/",
          "height": 34
        },
        "outputId": "d96aec5a-2855-4b08-86a9-35128aebceb6"
      },
      "source": [
        "print(\"Hi\")"
      ],
      "execution_count": 13,
      "outputs": [
        {
          "output_type": "stream",
          "text": [
            "Hi\n"
          ],
          "name": "stdout"
        }
      ]
    },
    {
      "cell_type": "code",
      "metadata": {
        "id": "24j9ktfzDIrg",
        "colab_type": "code",
        "colab": {
          "base_uri": "https://localhost:8080/",
          "height": 850
        },
        "outputId": "094415b6-66f9-4672-8366-f706f1321af6"
      },
      "source": [
        "with torch.no_grad():\n",
        "  for i in range(40,50):\n",
        "    if i == 40:\n",
        "      x_train = bert_model(train_indices[:1000])[0]\n",
        "      x_val = bert_model(val_indices[:1000])[0]\n",
        "      x_test = bert_model(test_indices[:1000])[0]\n",
        "    else:\n",
        "      x_train = torch.cat((x_train,bert_model(train_indices[i*1000:(i+1)*1000])[0]),dim=0)\n",
        "      x_val = torch.cat((x_val,bert_model(val_indices[i*1000:(i+1)*1000])[0]),dim=0)\n",
        "      x_test = torch.cat((x_test,bert_model(test_indices[i*1000:(i+1)*1000])[0]),dim=0)\n",
        "\n",
        "x_train"
      ],
      "execution_count": 14,
      "outputs": [
        {
          "output_type": "execute_result",
          "data": {
            "text/plain": [
              "tensor([[[-0.4374,  0.3052,  0.4779,  ..., -0.2994,  0.4771, -0.5297],\n",
              "         [-0.3174,  0.2385,  0.3197,  ..., -0.4987,  0.4756,  0.2309],\n",
              "         [-0.1331,  0.2687,  1.1933,  ..., -0.3334,  0.5221,  0.4827],\n",
              "         ...,\n",
              "         [ 0.2037, -0.1072,  0.9296,  ..., -0.5398,  0.2554, -0.8074],\n",
              "         [ 0.1017, -0.1093,  0.9060,  ..., -0.5195,  0.1509, -0.7584],\n",
              "         [ 0.1147,  0.0751,  0.8272,  ..., -0.5050,  0.1400, -0.8131]],\n",
              "\n",
              "        [[-0.5415,  0.3170,  0.4304,  ..., -0.4812,  0.4469, -0.4659],\n",
              "         [-0.2192,  0.6637, -0.0265,  ..., -0.6692,  0.1630, -0.3818],\n",
              "         [-0.4265,  0.4721,  0.2064,  ..., -0.3100,  0.0573,  0.3148],\n",
              "         ...,\n",
              "         [ 0.0918, -0.2180,  0.9180,  ..., -0.5563,  0.2320, -0.7675],\n",
              "         [-0.0831, -0.1838,  0.9331,  ..., -0.5530,  0.1662, -0.6904],\n",
              "         [-0.0162,  0.0234,  0.8659,  ..., -0.6017,  0.1680, -0.8301]],\n",
              "\n",
              "        [[-0.4318,  0.4026,  0.4854,  ..., -0.3491,  0.5271, -0.5924],\n",
              "         [ 0.1241,  1.6540,  0.7956,  ...,  0.1752,  0.6345,  0.2688],\n",
              "         [ 1.3051,  1.2358,  1.2250,  ...,  0.3098, -0.0617, -1.6389],\n",
              "         ...,\n",
              "         [ 0.2506, -0.1778,  0.9618,  ..., -0.6024,  0.1915, -0.8969],\n",
              "         [ 0.1558, -0.1798,  0.9396,  ..., -0.5839,  0.0904, -0.8475],\n",
              "         [ 0.1640,  0.0100,  0.8487,  ..., -0.5656,  0.0792, -0.8899]],\n",
              "\n",
              "        ...,\n",
              "\n",
              "        [[-0.4359,  0.4200,  0.4171,  ..., -0.4135,  0.4968, -0.4829],\n",
              "         [-1.7801,  0.7410,  0.4789,  ..., -0.0876, -0.0070,  0.2257],\n",
              "         [-1.4403,  0.4379,  1.2273,  ...,  0.1799,  0.0175,  0.1060],\n",
              "         ...,\n",
              "         [ 0.1844, -0.0743,  0.9991,  ..., -0.5845,  0.2857, -0.8067],\n",
              "         [ 0.1371, -0.0484,  0.9896,  ..., -0.5858,  0.2123, -0.7620],\n",
              "         [ 0.0884,  0.1217,  0.9150,  ..., -0.6095,  0.2058, -0.8136]],\n",
              "\n",
              "        [[-0.5306,  0.2479,  0.4284,  ..., -0.3642,  0.4436, -0.5332],\n",
              "         [-0.1887, -0.0076,  0.5060,  ...,  0.2961,  0.5354,  1.1199],\n",
              "         [-0.2369,  0.0366,  0.4112,  ...,  0.0418, -0.0356, -0.0290],\n",
              "         ...,\n",
              "         [ 0.1682, -0.2124,  0.9282,  ..., -0.5540,  0.2257, -0.8782],\n",
              "         [ 0.0835, -0.2382,  0.8988,  ..., -0.5295,  0.1572, -0.8153],\n",
              "         [ 0.0749, -0.0585,  0.8479,  ..., -0.5050,  0.1522, -0.8685]],\n",
              "\n",
              "        [[-0.4494,  0.3458,  0.4121,  ..., -0.3565,  0.4906, -0.5656],\n",
              "         [-0.5588,  0.0876,  1.4515,  ...,  0.1789,  0.6669, -0.0809],\n",
              "         [ 0.3458,  0.5675,  0.8533,  ..., -0.9152,  0.4364,  0.6842],\n",
              "         ...,\n",
              "         [ 0.2530, -0.0425,  0.8910,  ..., -0.5780,  0.2646, -0.8984],\n",
              "         [ 0.1774, -0.0267,  0.8547,  ..., -0.5513,  0.1803, -0.8262],\n",
              "         [ 0.1521,  0.1517,  0.7747,  ..., -0.5479,  0.1278, -0.8401]]])"
            ]
          },
          "metadata": {
            "tags": []
          },
          "execution_count": 14
        }
      ]
    },
    {
      "cell_type": "code",
      "metadata": {
        "id": "4h2jbUFYRazO",
        "colab_type": "code",
        "colab": {
          "base_uri": "https://localhost:8080/",
          "height": 1000
        },
        "outputId": "2bf45dae-ed95-4622-895c-4f2635b960b4"
      },
      "source": [
        "x_test"
      ],
      "execution_count": 17,
      "outputs": [
        {
          "output_type": "execute_result",
          "data": {
            "text/plain": [
              "tensor([[[-4.6289e-01,  2.7931e-01,  5.0270e-01,  ..., -3.6187e-01,\n",
              "           5.1460e-01, -4.9478e-01],\n",
              "         [ 6.5242e-02, -7.6948e-02,  2.3396e-01,  ...,  2.6637e-01,\n",
              "           7.0237e-01,  1.1103e+00],\n",
              "         [-5.0864e-01, -3.6947e-01,  5.5570e-01,  ..., -1.6562e-01,\n",
              "          -2.8545e-01, -3.9330e-01],\n",
              "         ...,\n",
              "         [ 2.2954e-01, -1.2384e-01,  9.3870e-01,  ..., -5.9352e-01,\n",
              "           2.1446e-01, -9.5107e-01],\n",
              "         [ 1.4961e-01, -1.1893e-01,  9.1185e-01,  ..., -5.7282e-01,\n",
              "           1.3025e-01, -8.7696e-01],\n",
              "         [ 1.4844e-01,  3.1131e-02,  8.2199e-01,  ..., -5.4887e-01,\n",
              "           1.1726e-01, -9.1609e-01]],\n",
              "\n",
              "        [[-5.2729e-01,  3.5245e-01,  4.7916e-01,  ..., -4.5925e-01,\n",
              "           3.7977e-01, -4.0403e-01],\n",
              "         [ 2.3086e-01,  1.2603e-01,  6.7737e-02,  ..., -2.0803e-01,\n",
              "           4.2145e-01, -1.6338e-01],\n",
              "         [ 4.7519e-02,  4.2805e-02,  2.0243e-01,  ..., -2.8018e-01,\n",
              "          -2.6501e-01, -1.4484e-01],\n",
              "         ...,\n",
              "         [ 1.7404e-01, -1.3020e-01,  9.6899e-01,  ..., -5.2565e-01,\n",
              "           2.4397e-01, -7.9271e-01],\n",
              "         [ 3.0977e-02, -9.6269e-02,  9.7871e-01,  ..., -5.0462e-01,\n",
              "           1.9197e-01, -7.2527e-01],\n",
              "         [ 4.5661e-02,  1.0417e-01,  9.2593e-01,  ..., -5.4272e-01,\n",
              "           1.7038e-01, -7.8003e-01]],\n",
              "\n",
              "        [[-5.2864e-01,  3.3767e-01,  4.6174e-01,  ..., -4.0323e-01,\n",
              "           4.9278e-01, -6.8794e-01],\n",
              "         [-4.3775e-01,  1.1433e-01,  7.6827e-01,  ...,  2.7842e-01,\n",
              "           5.7482e-01,  2.8373e-01],\n",
              "         [-6.8108e-02, -4.9265e-01,  7.8927e-02,  ..., -7.0351e-01,\n",
              "          -9.9560e-02,  3.1724e-01],\n",
              "         ...,\n",
              "         [ 1.3951e-01, -2.2642e-01,  9.6305e-01,  ..., -5.7133e-01,\n",
              "           2.1477e-01, -8.8783e-01],\n",
              "         [ 5.6781e-02, -2.6968e-01,  9.4691e-01,  ..., -5.5622e-01,\n",
              "           1.2191e-01, -8.2716e-01],\n",
              "         [ 8.2537e-02, -7.1499e-02,  8.8915e-01,  ..., -5.5142e-01,\n",
              "           1.0610e-01, -9.0077e-01]],\n",
              "\n",
              "        ...,\n",
              "\n",
              "        [[-4.1544e-01,  3.4800e-01,  5.1294e-01,  ..., -3.9705e-01,\n",
              "           4.8791e-01, -4.8015e-01],\n",
              "         [-6.5836e-01,  1.8787e-01,  7.3623e-01,  ...,  1.7821e-01,\n",
              "           1.2183e-01,  6.0751e-01],\n",
              "         [-1.2952e+00,  3.6133e-01,  9.7154e-01,  ...,  1.4378e-02,\n",
              "          -2.9343e-01, -1.1337e-01],\n",
              "         ...,\n",
              "         [ 2.1201e-01, -1.6232e-01,  9.2105e-01,  ..., -6.1317e-01,\n",
              "           2.0410e-01, -8.5539e-01],\n",
              "         [ 1.3742e-01, -1.8367e-01,  8.7329e-01,  ..., -5.7788e-01,\n",
              "           1.2579e-01, -7.9976e-01],\n",
              "         [ 1.2684e-01, -1.0501e-02,  8.0189e-01,  ..., -5.4817e-01,\n",
              "           1.2549e-01, -8.0641e-01]],\n",
              "\n",
              "        [[-3.3081e-01,  4.7826e-01,  4.1973e-01,  ..., -4.0936e-01,\n",
              "           4.5478e-01, -4.1492e-01],\n",
              "         [-9.0684e-01,  4.4868e-01,  8.7895e-01,  ...,  5.8944e-03,\n",
              "           3.7697e-01, -5.4666e-02],\n",
              "         [-3.7964e-01,  5.2285e-01,  7.6221e-01,  ..., -5.9544e-01,\n",
              "           2.1654e-01, -2.2292e-01],\n",
              "         ...,\n",
              "         [ 1.9004e-01, -4.3992e-03,  9.0524e-01,  ..., -6.1797e-01,\n",
              "           2.3875e-01, -8.1829e-01],\n",
              "         [ 1.1159e-01, -9.3221e-04,  8.7168e-01,  ..., -6.0054e-01,\n",
              "           1.7254e-01, -7.2445e-01],\n",
              "         [ 1.4089e-01,  2.4274e-01,  7.8431e-01,  ..., -5.6607e-01,\n",
              "           1.4808e-01, -6.9229e-01]],\n",
              "\n",
              "        [[-4.2272e-01,  3.4642e-01,  3.9539e-01,  ..., -2.1762e-01,\n",
              "           5.8747e-01, -6.2879e-01],\n",
              "         [ 3.6462e-01, -5.2196e-01,  7.3551e-01,  ..., -1.2400e-01,\n",
              "           3.4509e-01, -3.0112e-01],\n",
              "         [-2.6261e-01, -1.6595e-01,  4.0448e-01,  ..., -3.7066e-01,\n",
              "           4.9823e-01,  3.3906e-01],\n",
              "         ...,\n",
              "         [ 3.1750e-01, -1.7534e-01,  9.0215e-01,  ..., -5.7267e-01,\n",
              "           2.6909e-01, -8.6034e-01],\n",
              "         [ 2.1897e-01, -1.6354e-01,  8.7540e-01,  ..., -5.5178e-01,\n",
              "           1.7245e-01, -8.2332e-01],\n",
              "         [ 2.0625e-01,  1.4444e-02,  7.9634e-01,  ..., -5.4207e-01,\n",
              "           1.4747e-01, -8.9184e-01]]])"
            ]
          },
          "metadata": {
            "tags": []
          },
          "execution_count": 17
        }
      ]
    },
    {
      "cell_type": "code",
      "metadata": {
        "id": "APYtazXwR9OY",
        "colab_type": "code",
        "colab": {}
      },
      "source": [
        "torch.save(x_train,'xtrain4050.pt')"
      ],
      "execution_count": 0,
      "outputs": []
    },
    {
      "cell_type": "code",
      "metadata": {
        "id": "VYNfzQJfTUYA",
        "colab_type": "code",
        "colab": {}
      },
      "source": [
        "x_train_4150 = x_train[1000:,:,:].shape"
      ],
      "execution_count": 0,
      "outputs": []
    },
    {
      "cell_type": "code",
      "metadata": {
        "id": "RlkARZ6NTn3t",
        "colab_type": "code",
        "colab": {}
      },
      "source": [
        "torch.save(x_train_4150,'xtrain4150.pt')"
      ],
      "execution_count": 0,
      "outputs": []
    },
    {
      "cell_type": "code",
      "metadata": {
        "id": "DxdCH2hfUjTq",
        "colab_type": "code",
        "colab": {}
      },
      "source": [
        "x_train_4150 = torch.load('xtrain4150.pt')"
      ],
      "execution_count": 0,
      "outputs": []
    },
    {
      "cell_type": "code",
      "metadata": {
        "id": "cQxINi2AWEc1",
        "colab_type": "code",
        "colab": {}
      },
      "source": [
        ""
      ],
      "execution_count": 0,
      "outputs": []
    },
    {
      "cell_type": "code",
      "metadata": {
        "id": "0DS7GeDFU0SO",
        "colab_type": "code",
        "colab": {}
      },
      "source": [
        "import torch\n",
        "x_train_1020 = torch.load('xtrain1020.pt')"
      ],
      "execution_count": 0,
      "outputs": []
    },
    {
      "cell_type": "code",
      "metadata": {
        "id": "pcxmPNt7WXzF",
        "colab_type": "code",
        "colab": {}
      },
      "source": [
        "x_train_4050 = torch.load('xtrain4050.pt')"
      ],
      "execution_count": 0,
      "outputs": []
    },
    {
      "cell_type": "code",
      "metadata": {
        "id": "W5Oz9E1AVOdC",
        "colab_type": "code",
        "colab": {
          "base_uri": "https://localhost:8080/",
          "height": 34
        },
        "outputId": "ea9d5284-9921-4142-f561-c3544e534b23"
      },
      "source": [
        "x_train_1020.shape"
      ],
      "execution_count": 4,
      "outputs": [
        {
          "output_type": "execute_result",
          "data": {
            "text/plain": [
              "torch.Size([10000, 100, 768])"
            ]
          },
          "metadata": {
            "tags": []
          },
          "execution_count": 4
        }
      ]
    },
    {
      "cell_type": "code",
      "metadata": {
        "id": "rffj9ZQRWrf5",
        "colab_type": "code",
        "colab": {
          "base_uri": "https://localhost:8080/",
          "height": 34
        },
        "outputId": "3659fa70-0f1e-4d69-ff98-8f8c0401102a"
      },
      "source": [
        "x_train_4050.shape"
      ],
      "execution_count": 11,
      "outputs": [
        {
          "output_type": "execute_result",
          "data": {
            "text/plain": [
              "torch.Size([10000, 100, 768])"
            ]
          },
          "metadata": {
            "tags": []
          },
          "execution_count": 11
        }
      ]
    },
    {
      "cell_type": "code",
      "metadata": {
        "id": "WnzC2aStWu28",
        "colab_type": "code",
        "colab": {}
      },
      "source": [
        "x_train_4150 = x_train_4050[1000:,:,:]"
      ],
      "execution_count": 0,
      "outputs": []
    },
    {
      "cell_type": "code",
      "metadata": {
        "id": "yXYUciOkW4GB",
        "colab_type": "code",
        "colab": {
          "base_uri": "https://localhost:8080/",
          "height": 34
        },
        "outputId": "a177bac1-b810-48b4-c8bf-58ebbcd1c1c8"
      },
      "source": [
        "x_train_4150.shape"
      ],
      "execution_count": 14,
      "outputs": [
        {
          "output_type": "execute_result",
          "data": {
            "text/plain": [
              "torch.Size([9000, 100, 768])"
            ]
          },
          "metadata": {
            "tags": []
          },
          "execution_count": 14
        }
      ]
    },
    {
      "cell_type": "code",
      "metadata": {
        "id": "UA8BxbxvW8Uj",
        "colab_type": "code",
        "colab": {}
      },
      "source": [
        "x_train_1120 = x_train_1020[1000:,:,:]"
      ],
      "execution_count": 0,
      "outputs": []
    },
    {
      "cell_type": "code",
      "metadata": {
        "id": "Qwo2AmWzW_Wp",
        "colab_type": "code",
        "colab": {
          "base_uri": "https://localhost:8080/",
          "height": 34
        },
        "outputId": "83fcd69b-9515-4c5f-a193-5a7fa2f0883b"
      },
      "source": [
        "x_train_1120.shape"
      ],
      "execution_count": 16,
      "outputs": [
        {
          "output_type": "execute_result",
          "data": {
            "text/plain": [
              "torch.Size([9000, 100, 768])"
            ]
          },
          "metadata": {
            "tags": []
          },
          "execution_count": 16
        }
      ]
    },
    {
      "cell_type": "code",
      "metadata": {
        "id": "gpEmPR1nXGan",
        "colab_type": "code",
        "colab": {}
      },
      "source": [
        "torch.save(x_train_1120,'x_train_1120.pt')\n",
        "torch.save(x_train_4150,'x_train_4150.pt')"
      ],
      "execution_count": 0,
      "outputs": []
    },
    {
      "cell_type": "code",
      "metadata": {
        "id": "kxYxAcJiXmSF",
        "colab_type": "code",
        "colab": {}
      },
      "source": [
        "x_train_11204150 = torch.cat((x_train_1120,x_train_4150),dim=0)"
      ],
      "execution_count": 0,
      "outputs": []
    },
    {
      "cell_type": "code",
      "metadata": {
        "id": "jRdL4f2rXz2e",
        "colab_type": "code",
        "colab": {
          "base_uri": "https://localhost:8080/",
          "height": 34
        },
        "outputId": "2e0bfe0e-cac1-4d97-8f15-9641fb6d52d7"
      },
      "source": [
        "x_train_11204150.shape"
      ],
      "execution_count": 20,
      "outputs": [
        {
          "output_type": "execute_result",
          "data": {
            "text/plain": [
              "torch.Size([18000, 100, 768])"
            ]
          },
          "metadata": {
            "tags": []
          },
          "execution_count": 20
        }
      ]
    }
  ]
}
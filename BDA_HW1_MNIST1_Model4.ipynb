{
 "cells": [
  {
   "cell_type": "code",
   "execution_count": 1,
   "metadata": {},
   "outputs": [],
   "source": [
    "import tensorflow as tf\n",
    "from tensorflow import keras\n",
    "from tensorflow.keras.utils import to_categorical\n",
    "from tensorflow.keras.datasets import mnist\n",
    "from tensorflow.keras.datasets import fashion_mnist\n",
    "from tensorflow.keras.models import Sequential\n",
    "from tensorflow.keras.layers import Dense, Activation, Conv2D, MaxPooling2D, Flatten\n",
    "import numpy as np\n",
    "import matplotlib.pyplot as plt\n",
    "import os\n",
    "\n",
    "os.environ['KMP_DUPLICATE_LIB_OK']='True'\n",
    "\n",
    "np.random.seed(3)\n",
    "\n",
    "(X_train, Y_train), (X_test_org, Y_test_org) = mnist.load_data()\n"
   ]
  },
  {
   "cell_type": "code",
   "execution_count": 2,
   "metadata": {},
   "outputs": [],
   "source": [
    "X_val = X_train[3000:4000]\n",
    "Y_val = Y_train[3000:4000]\n",
    "X_train = X_train[:3000]\n",
    "Y_train = Y_train[:3000]\n",
    "X_test = X_test_org[:1000]\n",
    "Y_test = Y_test_org[:1000]\n",
    "\n",
    "X_train = X_train.reshape(3000, 28,28,1).astype('float32') / 255.0\n",
    "X_val = X_val.reshape(1000, 28,28,1).astype('float32') / 255.0\n",
    "X_test = X_test.reshape(1000, 28,28,1).astype('float32') / 255.0\n"
   ]
  },
  {
   "cell_type": "code",
   "execution_count": 3,
   "metadata": {},
   "outputs": [],
   "source": [
    "Y_train = to_categorical(Y_train)\n",
    "Y_val = to_categorical(Y_val)\n",
    "Y_test = to_categorical(Y_test)"
   ]
  },
  {
   "cell_type": "code",
   "execution_count": 4,
   "metadata": {},
   "outputs": [
    {
     "name": "stdout",
     "output_type": "stream",
     "text": [
      "WARNING:tensorflow:From C:\\Users\\shree\\Anaconda3\\lib\\site-packages\\tensorflow\\python\\ops\\init_ops.py:1251: calling VarianceScaling.__init__ (from tensorflow.python.ops.init_ops) with dtype is deprecated and will be removed in a future version.\n",
      "Instructions for updating:\n",
      "Call initializer instance with the dtype argument instead of passing it to the constructor\n",
      "Model: \"sequential\"\n",
      "_________________________________________________________________\n",
      "Layer (type)                 Output Shape              Param #   \n",
      "=================================================================\n",
      "conv2d (Conv2D)              (None, 28, 28, 64)        320       \n",
      "_________________________________________________________________\n",
      "max_pooling2d (MaxPooling2D) (None, 14, 14, 64)        0         \n",
      "_________________________________________________________________\n",
      "dropout (Dropout)            (None, 14, 14, 64)        0         \n",
      "_________________________________________________________________\n",
      "conv2d_1 (Conv2D)            (None, 14, 14, 32)        8224      \n",
      "_________________________________________________________________\n",
      "max_pooling2d_1 (MaxPooling2 (None, 7, 7, 32)          0         \n",
      "_________________________________________________________________\n",
      "dropout_1 (Dropout)          (None, 7, 7, 32)          0         \n",
      "_________________________________________________________________\n",
      "flatten (Flatten)            (None, 1568)              0         \n",
      "_________________________________________________________________\n",
      "dense (Dense)                (None, 256)               401664    \n",
      "_________________________________________________________________\n",
      "dropout_2 (Dropout)          (None, 256)               0         \n",
      "_________________________________________________________________\n",
      "dense_1 (Dense)              (None, 10)                2570      \n",
      "=================================================================\n",
      "Total params: 412,778\n",
      "Trainable params: 412,778\n",
      "Non-trainable params: 0\n",
      "_________________________________________________________________\n",
      "Train on 3000 samples, validate on 1000 samples\n",
      "Epoch 1/20\n",
      "3000/3000 [==============================] - 6s 2ms/sample - loss: 0.9403 - acc: 0.6910 - val_loss: 0.3529 - val_acc: 0.9040\n",
      "Epoch 2/20\n",
      "3000/3000 [==============================] - 6s 2ms/sample - loss: 0.3672 - acc: 0.8897 - val_loss: 0.1903 - val_acc: 0.9440\n",
      "Epoch 3/20\n",
      "3000/3000 [==============================] - 6s 2ms/sample - loss: 0.2737 - acc: 0.9117 - val_loss: 0.1529 - val_acc: 0.9540\n",
      "Epoch 4/20\n",
      "3000/3000 [==============================] - 6s 2ms/sample - loss: 0.2127 - acc: 0.9300 - val_loss: 0.1578 - val_acc: 0.9400\n",
      "Epoch 5/20\n",
      "3000/3000 [==============================] - 6s 2ms/sample - loss: 0.1901 - acc: 0.9373 - val_loss: 0.1258 - val_acc: 0.9610\n",
      "Epoch 6/20\n",
      "3000/3000 [==============================] - 6s 2ms/sample - loss: 0.1686 - acc: 0.9463 - val_loss: 0.1311 - val_acc: 0.9590\n",
      "Epoch 7/20\n",
      "3000/3000 [==============================] - 6s 2ms/sample - loss: 0.1462 - acc: 0.9510 - val_loss: 0.1001 - val_acc: 0.9620\n",
      "Epoch 8/20\n",
      "3000/3000 [==============================] - 6s 2ms/sample - loss: 0.1185 - acc: 0.9607 - val_loss: 0.0972 - val_acc: 0.9660\n",
      "Epoch 9/20\n",
      "3000/3000 [==============================] - 6s 2ms/sample - loss: 0.1038 - acc: 0.9667 - val_loss: 0.0984 - val_acc: 0.9640\n",
      "Epoch 10/20\n",
      "3000/3000 [==============================] - 6s 2ms/sample - loss: 0.1021 - acc: 0.9680 - val_loss: 0.0913 - val_acc: 0.9700\n",
      "Epoch 11/20\n",
      "3000/3000 [==============================] - 6s 2ms/sample - loss: 0.0889 - acc: 0.9720 - val_loss: 0.0826 - val_acc: 0.9700\n",
      "Epoch 12/20\n",
      "3000/3000 [==============================] - 6s 2ms/sample - loss: 0.0729 - acc: 0.9763 - val_loss: 0.0726 - val_acc: 0.9750\n",
      "Epoch 13/20\n",
      "3000/3000 [==============================] - 6s 2ms/sample - loss: 0.0744 - acc: 0.9740 - val_loss: 0.0883 - val_acc: 0.9730\n",
      "Epoch 14/20\n",
      "3000/3000 [==============================] - 6s 2ms/sample - loss: 0.0693 - acc: 0.9790 - val_loss: 0.0692 - val_acc: 0.9750\n",
      "Epoch 15/20\n",
      "3000/3000 [==============================] - 6s 2ms/sample - loss: 0.0713 - acc: 0.9773 - val_loss: 0.0910 - val_acc: 0.9710\n",
      "Epoch 16/20\n",
      "3000/3000 [==============================] - 6s 2ms/sample - loss: 0.0594 - acc: 0.9810 - val_loss: 0.0862 - val_acc: 0.9740\n",
      "Epoch 17/20\n",
      "3000/3000 [==============================] - 6s 2ms/sample - loss: 0.0638 - acc: 0.9767 - val_loss: 0.0790 - val_acc: 0.9760\n",
      "Epoch 18/20\n",
      "3000/3000 [==============================] - 6s 2ms/sample - loss: 0.0621 - acc: 0.9777 - val_loss: 0.0937 - val_acc: 0.9740\n",
      "Epoch 19/20\n",
      "3000/3000 [==============================] - 6s 2ms/sample - loss: 0.0574 - acc: 0.9813 - val_loss: 0.0843 - val_acc: 0.9800\n",
      "Epoch 20/20\n",
      "3000/3000 [==============================] - 6s 2ms/sample - loss: 0.0442 - acc: 0.9867 - val_loss: 0.0909 - val_acc: 0.9750\n",
      "Mean Accuracy:  0.9467165\n",
      "Mean Loss:  0.16434041139184802\n",
      "Mean Val Accuracy:  0.96335\n",
      "Mean Val Loss:  0.11679282354911495\n"
     ]
    }
   ],
   "source": [
    "model = Sequential()\n",
    "\n",
    "model.add(Conv2D(filters=64, kernel_size=2, padding='same', activation='relu', input_shape=(28,28,1))) \n",
    "model.add(tf.keras.layers.MaxPooling2D(pool_size=2))\n",
    "model.add(tf.keras.layers.Dropout(0.3))\n",
    "model.add(tf.keras.layers.Conv2D(filters=32, kernel_size=2, padding='same', activation='relu'))\n",
    "model.add(tf.keras.layers.MaxPooling2D(pool_size=2))\n",
    "model.add(tf.keras.layers.Dropout(0.3))\n",
    "model.add(tf.keras.layers.Flatten())\n",
    "model.add(tf.keras.layers.Dense(256, activation='relu'))\n",
    "model.add(tf.keras.layers.Dropout(0.5))\n",
    "model.add(tf.keras.layers.Dense(10, activation='softmax'))\n",
    "\n",
    "model.compile(loss='categorical_crossentropy', optimizer='adam', metrics=['accuracy'])\n",
    "\n",
    "model.summary()\n",
    "hist = model.fit(X_train, Y_train, epochs=20, batch_size=10, validation_data=(X_val, Y_val))\n",
    "\n",
    "print('Mean Accuracy: ',np.mean(hist.history['acc']))\n",
    "print('Mean Loss: ',np.mean(hist.history['loss']))\n",
    "print('Mean Val Accuracy: ',np.mean(hist.history['val_acc']))\n",
    "print('Mean Val Loss: ',np.mean(hist.history['val_loss']))\n"
   ]
  },
  {
   "cell_type": "code",
   "execution_count": 5,
   "metadata": {},
   "outputs": [
    {
     "name": "stdout",
     "output_type": "stream",
     "text": [
      "1000/1000 [==============================] - 1s 864us/sample - loss: 0.1002 - acc: 0.9690\n",
      "Test loss: 0.10021683648308681\n",
      "Test accuracy: 0.969\n"
     ]
    },
    {
     "data": {
      "image/png": "[encoded data removed]",
      "text/plain": [
       "<Figure size 432x288 with 2 Axes>"
      ]
     },
     "metadata": {
      "needs_background": "light"
     },
     "output_type": "display_data"
    }
   ],
   "source": [
    "test_loss, test_acc = model.evaluate(X_test, Y_test, batch_size=10)\n",
    "print('Test loss:', test_loss)\n",
    "print('Test accuracy:', test_acc)\n",
    "\n",
    "\n",
    "\n",
    "fig, loss_ax = plt.subplots()\n",
    "\n",
    "acc_ax = loss_ax.twinx()\n",
    "\n",
    "loss_ax.plot(hist.history['loss'], 'y', label='train loss')\n",
    "loss_ax.plot(hist.history['val_loss'], 'r', label='val loss')\n",
    "\n",
    "acc_ax.plot(hist.history['acc'], 'b', label='train acc')\n",
    "acc_ax.plot(hist.history['val_acc'], 'g', label='val acc')\n",
    "\n",
    "loss_ax.set_xlabel('epoch')\n",
    "loss_ax.set_ylabel('loss')\n",
    "acc_ax.set_ylabel('accuray')\n",
    "\n",
    "loss_ax.legend(loc='upper left')\n",
    "acc_ax.legend(loc='lower left')\n",
    "\n",
    "plt.show()"
   ]
  },
  {
   "cell_type": "code",
   "execution_count": 6,
   "metadata": {
    "scrolled": true
   },
   "outputs": [
    {
     "name": "stdout",
     "output_type": "stream",
     "text": [
      "1000/1000 [==============================] - 1s 530us/sample - loss: 7.8994 - acc: 0.0320\n",
      "Test loss: 7.899401459693909\n",
      "Test accuracy: 0.032\n"
     ]
    }
   ],
   "source": [
    "(OX_train, OY_train), (OX_test, OY_test) = fashion_mnist.load_data()\n",
    "OX_test = OX_test[:1000]\n",
    "OY_test = OY_test[:1000]\n",
    "OY_test = to_categorical(OY_test)\n",
    "OX_test_reshape = OX_test.reshape(1000, 28,28,1).astype('float32') / 255.0\n",
    "test_loss, test_acc = model.evaluate(OX_test_reshape, OY_test, batch_size=10)\n",
    "print('Test loss:', test_loss)\n",
    "print('Test accuracy:', test_acc)\n",
    "predictions = model.predict(OX_test_reshape)"
   ]
  },
  {
   "cell_type": "code",
   "execution_count": 7,
   "metadata": {},
   "outputs": [
    {
     "data": {
      "image/png": "[encoded data removed]",
      "text/plain": [
       "<Figure size 432x288 with 1 Axes>"
      ]
     },
     "metadata": {
      "needs_background": "light"
     },
     "output_type": "display_data"
    },
    {
     "name": "stdout",
     "output_type": "stream",
     "text": [
      "[3.0841776e-03 3.4505084e-02 7.4158651e-01 9.0427371e-03 1.5151565e-04\n",
      " 1.8852310e-01 9.1387652e-04 1.2713106e-04 2.1695621e-02 3.7010465e-04]\n"
     ]
    },
    {
     "data": {
      "image/png": "[encoded data removed]",
      "text/plain": [
       "<Figure size 432x288 with 1 Axes>"
      ]
     },
     "metadata": {
      "needs_background": "light"
     },
     "output_type": "display_data"
    },
    {
     "name": "stdout",
     "output_type": "stream",
     "text": [
      "[9.7914165e-01 4.0994287e-06 5.9323971e-05 2.8972601e-04 2.5737828e-07\n",
      " 3.9754518e-06 1.3606142e-03 1.7254459e-02 7.5267983e-04 1.1334072e-03]\n"
     ]
    },
    {
     "data": {
      "image/png": "[encoded data removed]",
      "text/plain": [
       "<Figure size 432x288 with 1 Axes>"
      ]
     },
     "metadata": {
      "needs_background": "light"
     },
     "output_type": "display_data"
    },
    {
     "name": "stdout",
     "output_type": "stream",
     "text": [
      "[1.5565879e-03 8.6795320e-05 5.8958926e-06 1.2004461e-05 1.9162954e-01\n",
      " 4.2821066e-06 2.3766626e-02 2.5039839e-02 2.0955009e-03 7.5580299e-01]\n"
     ]
    },
    {
     "data": {
      "image/png": "[encoded data removed]",
      "text/plain": [
       "<Figure size 432x288 with 1 Axes>"
      ]
     },
     "metadata": {
      "needs_background": "light"
     },
     "output_type": "display_data"
    },
    {
     "name": "stdout",
     "output_type": "stream",
     "text": [
      "[2.6835586e-04 8.6155272e-04 3.4642647e-04 5.0146156e-04 1.2985281e-02\n",
      " 8.6300288e-06 3.9887632e-04 5.7043380e-01 2.8974153e-03 4.1129822e-01]\n"
     ]
    },
    {
     "data": {
      "image/png": "[encoded data removed]",
      "text/plain": [
       "<Figure size 432x288 with 1 Axes>"
      ]
     },
     "metadata": {
      "needs_background": "light"
     },
     "output_type": "display_data"
    },
    {
     "name": "stdout",
     "output_type": "stream",
     "text": [
      "[9.09420669e-01 2.71765486e-04 1.76110351e-03 2.59027188e-03\n",
      " 1.09673936e-04 4.99929069e-04 2.08661682e-03 6.79971799e-02\n",
      " 3.72752361e-03 1.15352664e-02]\n"
     ]
    }
   ],
   "source": [
    "for i in range(5):\n",
    "    plt.imshow(OX_test[i])\n",
    "    plt.show()\n",
    "    print(predictions[i])"
   ]
  },
  {
   "cell_type": "code",
   "execution_count": 8,
   "metadata": {},
   "outputs": [
    {
     "data": {
      "image/png": "[encoded data removed]",
      "text/plain": [
       "<Figure size 432x288 with 1 Axes>"
      ]
     },
     "metadata": {
      "needs_background": "light"
     },
     "output_type": "display_data"
    },
    {
     "name": "stdout",
     "output_type": "stream",
     "text": [
      "Original:  9\n",
      "Predicted probabilities:  [0. 0. 0. 0. 0. 0. 0. 0. 0. 1.]\n",
      "Predicted Y:  9\n"
     ]
    },
    {
     "data": {
      "image/png": "[encoded data removed]",
      "text/plain": [
       "<Figure size 432x288 with 1 Axes>"
      ]
     },
     "metadata": {
      "needs_background": "light"
     },
     "output_type": "display_data"
    },
    {
     "name": "stdout",
     "output_type": "stream",
     "text": [
      "Original:  0\n",
      "Predicted probabilities:  [1. 0. 0. 0. 0. 0. 0. 0. 0. 0.]\n",
      "Predicted Y:  0\n"
     ]
    },
    {
     "data": {
      "image/png": "[encoded data removed]",
      "text/plain": [
       "<Figure size 432x288 with 1 Axes>"
      ]
     },
     "metadata": {
      "needs_background": "light"
     },
     "output_type": "display_data"
    },
    {
     "name": "stdout",
     "output_type": "stream",
     "text": [
      "Original:  2\n",
      "Predicted probabilities:  [0. 0. 1. 0. 0. 0. 0. 0. 0. 0.]\n",
      "Predicted Y:  2\n"
     ]
    },
    {
     "data": {
      "image/png": "[encoded data removed]",
      "text/plain": [
       "<Figure size 432x288 with 1 Axes>"
      ]
     },
     "metadata": {
      "needs_background": "light"
     },
     "output_type": "display_data"
    },
    {
     "name": "stdout",
     "output_type": "stream",
     "text": [
      "Original:  5\n",
      "Predicted probabilities:  [0. 0. 0. 0. 0. 1. 0. 0. 0. 0.]\n",
      "Predicted Y:  5\n"
     ]
    },
    {
     "data": {
      "image/png": "[encoded data removed]",
      "text/plain": [
       "<Figure size 432x288 with 1 Axes>"
      ]
     },
     "metadata": {
      "needs_background": "light"
     },
     "output_type": "display_data"
    },
    {
     "name": "stdout",
     "output_type": "stream",
     "text": [
      "Original:  1\n",
      "Predicted probabilities:  [0. 1. 0. 0. 0. 0. 0. 0. 0. 0.]\n",
      "Predicted Y:  1\n"
     ]
    }
   ],
   "source": [
    "X_check = X_test_org[1000:2000]\n",
    "X_check = X_check.reshape(1000,28,28,1)\n",
    "Xpredictions = model.predict(X_check)\n",
    "\n",
    "for i in range(1000,1005):\n",
    "    plt.imshow(X_test_org[i])\n",
    "    plt.show()\n",
    "    print (\"Original: \",Y_test_org[i])\n",
    "    print(\"Predicted probabilities: \",Xpredictions[i-1000])\n",
    "    print(\"Predicted Y: \",np.argmax(Xpredictions[i-1000]))"
   ]
  },
  {
   "cell_type": "code",
   "execution_count": null,
   "metadata": {},
   "outputs": [],
   "source": []
  }
 ],
 "metadata": {
  "kernelspec": {
   "display_name": "Python 3",
   "language": "python",
   "name": "python3"
  },
  "language_info": {
   "codemirror_mode": {
    "name": "ipython",
    "version": 3
   },
   "file_extension": ".py",
   "mimetype": "text/x-python",
   "name": "python",
   "nbconvert_exporter": "python",
   "pygments_lexer": "ipython3",
   "version": "3.7.3"
  }
 },
 "nbformat": 4,
 "nbformat_minor": 2
}

{
 "cells": [
  {
   "cell_type": "code",
   "execution_count": 42,
   "metadata": {},
   "outputs": [],
   "source": [
    "#Source:https://gatech.instructure.com/courses/62736/files/folder/Advanced%20DNN%20Software%20%26%20Tools\n",
    "import tensorflow as tf\n",
    "from tensorflow import keras\n",
    "from tensorflow.keras.utils import to_categorical\n",
    "from tensorflow.keras.datasets import mnist\n",
    "from tensorflow.keras.datasets import fashion_mnist\n",
    "from tensorflow.keras.models import Sequential\n",
    "from tensorflow.keras.layers import Dense, Activation, Conv2D, MaxPooling2D, Flatten\n",
    "import numpy as np\n",
    "import os\n",
    "\n",
    "os.environ['KMP_DUPLICATE_LIB_OK']='True'\n",
    "\n",
    "np.random.seed(3)\n",
    "\n",
    "(X_train, Y_train), (X_test_org, Y_test_org) = fashion_mnist.load_data()\n",
    "\n"
   ]
  },
  {
   "cell_type": "code",
   "execution_count": 43,
   "metadata": {},
   "outputs": [],
   "source": [
    "X_val = X_train[7000:8000]\n",
    "Y_val = Y_train[7000:8000]\n",
    "X_train = X_train[4000:7000]\n",
    "Y_train = Y_train[4000:7000]\n",
    "X_test = X_test_org[1000:2000]\n",
    "Y_test = Y_test_org[1000:2000]\n",
    "\n",
    "X_train = X_train.reshape(3000, 28,28,1).astype('float32') / 255.0\n",
    "X_val = X_val.reshape(1000, 28,28,1).astype('float32') / 255.0\n",
    "X_test = X_test.reshape(1000, 28,28,1).astype('float32') / 255.0\n"
   ]
  },
  {
   "cell_type": "code",
   "execution_count": 44,
   "metadata": {},
   "outputs": [],
   "source": [
    "Y_train = to_categorical(Y_train)\n",
    "Y_val = to_categorical(Y_val)\n",
    "Y_test = to_categorical(Y_test)"
   ]
  },
  {
   "cell_type": "code",
   "execution_count": 48,
   "metadata": {},
   "outputs": [
    {
     "name": "stdout",
     "output_type": "stream",
     "text": [
      "Model: \"sequential_12\"\n",
      "_________________________________________________________________\n",
      "Layer (type)                 Output Shape              Param #   \n",
      "=================================================================\n",
      "conv2d_10 (Conv2D)           (None, 28, 28, 64)        320       \n",
      "_________________________________________________________________\n",
      "max_pooling2d_8 (MaxPooling2 (None, 14, 14, 64)        0         \n",
      "_________________________________________________________________\n",
      "dropout_6 (Dropout)          (None, 14, 14, 64)        0         \n",
      "_________________________________________________________________\n",
      "conv2d_11 (Conv2D)           (None, 14, 14, 32)        8224      \n",
      "_________________________________________________________________\n",
      "max_pooling2d_9 (MaxPooling2 (None, 7, 7, 32)          0         \n",
      "_________________________________________________________________\n",
      "dropout_7 (Dropout)          (None, 7, 7, 32)          0         \n",
      "_________________________________________________________________\n",
      "flatten_12 (Flatten)         (None, 1568)              0         \n",
      "_________________________________________________________________\n",
      "dense_24 (Dense)             (None, 256)               401664    \n",
      "_________________________________________________________________\n",
      "dropout_8 (Dropout)          (None, 256)               0         \n",
      "_________________________________________________________________\n",
      "dense_25 (Dense)             (None, 10)                2570      \n",
      "=================================================================\n",
      "Total params: 412,778\n",
      "Trainable params: 412,778\n",
      "Non-trainable params: 0\n",
      "_________________________________________________________________\n",
      "Train on 3000 samples, validate on 1000 samples\n",
      "Epoch 1/20\n",
      "3000/3000 [==============================] - 2s 793us/sample - loss: 1.4084 - acc: 0.4773 - val_loss: 0.9216 - val_acc: 0.6720\n",
      "Epoch 2/20\n",
      "3000/3000 [==============================] - 2s 673us/sample - loss: 0.8186 - acc: 0.6973 - val_loss: 0.6684 - val_acc: 0.7330\n",
      "Epoch 3/20\n",
      "3000/3000 [==============================] - 2s 651us/sample - loss: 0.6847 - acc: 0.7513 - val_loss: 0.5664 - val_acc: 0.7850\n",
      "Epoch 4/20\n",
      "3000/3000 [==============================] - 2s 654us/sample - loss: 0.5989 - acc: 0.7803 - val_loss: 0.5180 - val_acc: 0.7990\n",
      "Epoch 5/20\n",
      "3000/3000 [==============================] - 2s 659us/sample - loss: 0.5477 - acc: 0.8010 - val_loss: 0.4897 - val_acc: 0.8180\n",
      "Epoch 6/20\n",
      "3000/3000 [==============================] - 2s 652us/sample - loss: 0.5244 - acc: 0.8067 - val_loss: 0.4850 - val_acc: 0.8190\n",
      "Epoch 7/20\n",
      "3000/3000 [==============================] - 2s 665us/sample - loss: 0.4916 - acc: 0.8233 - val_loss: 0.4744 - val_acc: 0.8160\n",
      "Epoch 8/20\n",
      "3000/3000 [==============================] - 2s 658us/sample - loss: 0.4650 - acc: 0.8270 - val_loss: 0.4411 - val_acc: 0.8470\n",
      "Epoch 9/20\n",
      "3000/3000 [==============================] - 2s 666us/sample - loss: 0.4546 - acc: 0.8257 - val_loss: 0.4454 - val_acc: 0.8400\n",
      "Epoch 10/20\n",
      "3000/3000 [==============================] - 2s 819us/sample - loss: 0.4260 - acc: 0.8400 - val_loss: 0.4245 - val_acc: 0.8430\n",
      "Epoch 11/20\n",
      "3000/3000 [==============================] - 2s 820us/sample - loss: 0.4234 - acc: 0.8433 - val_loss: 0.4189 - val_acc: 0.8530\n",
      "Epoch 12/20\n",
      "3000/3000 [==============================] - 2s 820us/sample - loss: 0.4032 - acc: 0.8503 - val_loss: 0.4331 - val_acc: 0.8250\n",
      "Epoch 13/20\n",
      "3000/3000 [==============================] - 2s 820us/sample - loss: 0.3924 - acc: 0.8593 - val_loss: 0.4292 - val_acc: 0.8350\n",
      "Epoch 14/20\n",
      "3000/3000 [==============================] - 2s 820us/sample - loss: 0.3862 - acc: 0.8520 - val_loss: 0.3973 - val_acc: 0.8550\n",
      "Epoch 15/20\n",
      "3000/3000 [==============================] - 3s 850us/sample - loss: 0.3691 - acc: 0.8583 - val_loss: 0.4120 - val_acc: 0.8450\n",
      "Epoch 16/20\n",
      "3000/3000 [==============================] - 2s 828us/sample - loss: 0.3480 - acc: 0.8680 - val_loss: 0.3911 - val_acc: 0.8520\n",
      "Epoch 17/20\n",
      "3000/3000 [==============================] - 2s 801us/sample - loss: 0.3432 - acc: 0.8720 - val_loss: 0.4066 - val_acc: 0.8470\n",
      "Epoch 18/20\n",
      "3000/3000 [==============================] - 2s 814us/sample - loss: 0.3459 - acc: 0.8693 - val_loss: 0.3967 - val_acc: 0.8490\n",
      "Epoch 19/20\n",
      "3000/3000 [==============================] - 2s 808us/sample - loss: 0.3171 - acc: 0.8810 - val_loss: 0.3876 - val_acc: 0.8460\n",
      "Epoch 20/20\n",
      "3000/3000 [==============================] - 2s 806us/sample - loss: 0.3123 - acc: 0.8873 - val_loss: 0.3849 - val_acc: 0.8650\n",
      "Mean Accuracy:  0.81355\n",
      "Mean Loss:  0.5030365417857966\n",
      "Mean Val Accuracy:  0.8222\n",
      "Mean Val Loss:  0.47459473963975907\n"
     ]
    }
   ],
   "source": [
    "model = Sequential()\n",
    "\n",
    "model.add(Conv2D(filters=64, kernel_size=2, padding='same', activation='relu', input_shape=(28,28,1))) \n",
    "model.add(tf.keras.layers.MaxPooling2D(pool_size=2))\n",
    "model.add(tf.keras.layers.Dropout(0.3))\n",
    "model.add(tf.keras.layers.Conv2D(filters=32, kernel_size=2, padding='same', activation='relu'))\n",
    "model.add(tf.keras.layers.MaxPooling2D(pool_size=2))\n",
    "model.add(tf.keras.layers.Dropout(0.3))\n",
    "model.add(tf.keras.layers.Flatten())\n",
    "model.add(tf.keras.layers.Dense(256, activation='relu'))\n",
    "model.add(tf.keras.layers.Dropout(0.5))\n",
    "model.add(tf.keras.layers.Dense(10, activation='softmax'))\n",
    "\n",
    "model.compile(loss='categorical_crossentropy', optimizer='adam', metrics=['accuracy'])\n",
    "\n",
    "model.summary()\n",
    "hist = model.fit(X_train, Y_train, epochs=20, batch_size=64, validation_data=(X_val, Y_val))\n",
    "\n",
    "print('Mean Accuracy: ',np.mean(hist.history['acc']))\n",
    "print('Mean Loss: ',np.mean(hist.history['loss']))\n",
    "print('Mean Val Accuracy: ',np.mean(hist.history['val_acc']))\n",
    "print('Mean Val Loss: ',np.mean(hist.history['val_loss']))\n"
   ]
  },
  {
   "cell_type": "code",
   "execution_count": 49,
   "metadata": {},
   "outputs": [
    {
     "name": "stdout",
     "output_type": "stream",
     "text": [
      "1000/1000 [==============================] - 0s 234us/sample - loss: 0.3715 - acc: 0.8720\n",
      "Test loss: 0.3714967897289898\n",
      "Test accuracy: 0.872\n"
     ]
    },
    {
     "data": {
      "image/png": "[encoded data removed]",
      "text/plain": [
       "<Figure size 432x288 with 2 Axes>"
      ]
     },
     "metadata": {
      "needs_background": "light"
     },
     "output_type": "display_data"
    }
   ],
   "source": [
    "test_loss, test_acc = model.evaluate(X_test, Y_test, batch_size=10)\n",
    "print('Test loss:', test_loss)\n",
    "print('Test accuracy:', test_acc)\n",
    "\n",
    "import matplotlib.pyplot as plt\n",
    "\n",
    "fig, loss_ax = plt.subplots()\n",
    "\n",
    "acc_ax = loss_ax.twinx()\n",
    "\n",
    "loss_ax.plot(hist.history['loss'], 'y', label='train loss')\n",
    "loss_ax.plot(hist.history['val_loss'], 'r', label='val loss')\n",
    "\n",
    "acc_ax.plot(hist.history['acc'], 'b', label='train acc')\n",
    "acc_ax.plot(hist.history['val_acc'], 'g', label='val acc')\n",
    "\n",
    "loss_ax.set_xlabel('epoch')\n",
    "loss_ax.set_ylabel('loss')\n",
    "acc_ax.set_ylabel('accuray')\n",
    "\n",
    "loss_ax.legend(loc='upper left')\n",
    "acc_ax.legend(loc='lower left')\n",
    "\n",
    "plt.show()\n",
    "\n",
    "model.save(\"model2\")"
   ]
  },
  {
   "cell_type": "code",
   "execution_count": 39,
   "metadata": {
    "scrolled": true
   },
   "outputs": [],
   "source": [
    "(OX_train, OY_train), (OX_test, OY_test) = mnist.load_data()\n",
    "OX_test = OX_test[:1000]\n",
    "\n",
    "OX_test_reshape = OX_test.reshape(1000, 28,28,1).astype('float32') / 255.0\n",
    "\n",
    "predictions = model.predict(OX_test_reshape)"
   ]
  },
  {
   "cell_type": "code",
   "execution_count": 40,
   "metadata": {},
   "outputs": [
    {
     "data": {
      "image/png": "[encoded data removed]",
      "text/plain": [
       "<Figure size 432x288 with 1 Axes>"
      ]
     },
     "metadata": {
      "needs_background": "light"
     },
     "output_type": "display_data"
    },
    {
     "name": "stdout",
     "output_type": "stream",
     "text": [
      "[8.9714512e-02 9.7600417e-04 3.7900624e-01 3.7661913e-01 8.9528289e-04\n",
      " 5.3658698e-02 9.5288523e-02 9.2705974e-05 2.1557489e-03 1.5932092e-03]\n"
     ]
    },
    {
     "data": {
      "image/png": "[encoded data removed]",
      "text/plain": [
       "<Figure size 432x288 with 1 Axes>"
      ]
     },
     "metadata": {
      "needs_background": "light"
     },
     "output_type": "display_data"
    },
    {
     "name": "stdout",
     "output_type": "stream",
     "text": [
      "[1.86942494e-03 8.30164063e-04 6.98093232e-03 7.38498867e-01\n",
      " 1.36619300e-01 5.81722765e-04 1.07848376e-01 4.89075464e-05\n",
      " 2.57942150e-03 4.14272537e-03]\n"
     ]
    },
    {
     "data": {
      "image/png": "[encoded data removed]",
      "text/plain": [
       "<Figure size 432x288 with 1 Axes>"
      ]
     },
     "metadata": {
      "needs_background": "light"
     },
     "output_type": "display_data"
    },
    {
     "name": "stdout",
     "output_type": "stream",
     "text": [
      "[1.6691400e-03 1.7638048e-03 2.6523133e-04 9.5643783e-01 2.8974379e-03\n",
      " 7.5965924e-03 4.4070529e-03 9.7557576e-04 3.0330985e-04 2.3684200e-02]\n"
     ]
    },
    {
     "data": {
      "image/png": "[encoded data removed]",
      "text/plain": [
       "<Figure size 432x288 with 1 Axes>"
      ]
     },
     "metadata": {
      "needs_background": "light"
     },
     "output_type": "display_data"
    },
    {
     "name": "stdout",
     "output_type": "stream",
     "text": [
      "[2.6968198e-03 2.5142988e-04 1.9567378e-03 1.7750812e-03 2.5060687e-02\n",
      " 9.6800172e-01 2.4902303e-04 3.3083384e-06 5.1457782e-06 8.7027008e-09]\n"
     ]
    },
    {
     "data": {
      "image/png": "[encoded data removed]",
      "text/plain": [
       "<Figure size 432x288 with 1 Axes>"
      ]
     },
     "metadata": {
      "needs_background": "light"
     },
     "output_type": "display_data"
    },
    {
     "name": "stdout",
     "output_type": "stream",
     "text": [
      "[3.2262459e-02 1.2947247e-02 9.7855866e-02 7.1535248e-04 2.9518565e-02\n",
      " 2.2515284e-01 5.9606403e-01 2.7258077e-03 2.7577179e-03 1.5438819e-07]\n"
     ]
    }
   ],
   "source": [
    "for i in range(5):\n",
    "    plt.imshow(OX_test[i])\n",
    "    plt.show()\n",
    "    print(predictions[i])"
   ]
  },
  {
   "cell_type": "code",
   "execution_count": 41,
   "metadata": {},
   "outputs": [
    {
     "data": {
      "image/png": "[encoded data removed]",
      "text/plain": [
       "<Figure size 432x288 with 1 Axes>"
      ]
     },
     "metadata": {
      "needs_background": "light"
     },
     "output_type": "display_data"
    },
    {
     "name": "stdout",
     "output_type": "stream",
     "text": [
      "Original:  8\n",
      "Predicted probabilities:  [0. 0. 0. 0. 0. 0. 0. 0. 1. 0.]\n",
      "Predicted Y:  8\n"
     ]
    },
    {
     "data": {
      "image/png": "[encoded data removed]",
      "text/plain": [
       "<Figure size 432x288 with 1 Axes>"
      ]
     },
     "metadata": {
      "needs_background": "light"
     },
     "output_type": "display_data"
    },
    {
     "name": "stdout",
     "output_type": "stream",
     "text": [
      "Original:  2\n",
      "Predicted probabilities:  [0. 0. 0. 0. 1. 0. 0. 0. 0. 0.]\n",
      "Predicted Y:  4\n"
     ]
    },
    {
     "data": {
      "image/png": "[encoded data removed]",
      "text/plain": [
       "<Figure size 432x288 with 1 Axes>"
      ]
     },
     "metadata": {
      "needs_background": "light"
     },
     "output_type": "display_data"
    },
    {
     "name": "stdout",
     "output_type": "stream",
     "text": [
      "Original:  1\n",
      "Predicted probabilities:  [0. 1. 0. 0. 0. 0. 0. 0. 0. 0.]\n",
      "Predicted Y:  1\n"
     ]
    },
    {
     "data": {
      "image/png": "[encoded data removed]",
      "text/plain": [
       "<Figure size 432x288 with 1 Axes>"
      ]
     },
     "metadata": {
      "needs_background": "light"
     },
     "output_type": "display_data"
    },
    {
     "name": "stdout",
     "output_type": "stream",
     "text": [
      "Original:  3\n",
      "Predicted probabilities:  [0. 0. 0. 1. 0. 0. 0. 0. 0. 0.]\n",
      "Predicted Y:  3\n"
     ]
    },
    {
     "data": {
      "image/png": "[encoded data removed]",
      "text/plain": [
       "<Figure size 432x288 with 1 Axes>"
      ]
     },
     "metadata": {
      "needs_background": "light"
     },
     "output_type": "display_data"
    },
    {
     "name": "stdout",
     "output_type": "stream",
     "text": [
      "Original:  8\n",
      "Predicted probabilities:  [0. 0. 0. 0. 0. 0. 0. 0. 1. 0.]\n",
      "Predicted Y:  8\n"
     ]
    }
   ],
   "source": [
    "X_check = X_test_org[2000:3000]\n",
    "X_check = X_check.reshape(1000,28,28,1)\n",
    "Xpredictions = model.predict(X_check)\n",
    "\n",
    "for i in range(2000,2005):\n",
    "    plt.imshow(X_test_org[i])\n",
    "    plt.show()\n",
    "    print (\"Original: \",Y_test_org[i])\n",
    "    print(\"Predicted probabilities: \",Xpredictions[i-2000])\n",
    "    print(\"Predicted Y: \",np.argmax(Xpredictions[i-2000]))"
   ]
  },
  {
   "cell_type": "code",
   "execution_count": null,
   "metadata": {},
   "outputs": [],
   "source": []
  }
 ],
 "metadata": {
  "kernelspec": {
   "display_name": "Python 3",
   "language": "python",
   "name": "python3"
  },
  "language_info": {
   "codemirror_mode": {
    "name": "ipython",
    "version": 3
   },
   "file_extension": ".py",
   "mimetype": "text/x-python",
   "name": "python",
   "nbconvert_exporter": "python",
   "pygments_lexer": "ipython3",
   "version": "3.7.3"
  }
 },
 "nbformat": 4,
 "nbformat_minor": 2
}

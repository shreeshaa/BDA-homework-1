{
  "nbformat": 4,
  "nbformat_minor": 0,
  "metadata": {
    "colab": {
      "name": "Untitled0.ipynb",
      "provenance": [],
      "machine_shape": "hm",
      "authorship_tag": "ABX9TyOld12BdbtD+ChZGFbraZ4+",
      "include_colab_link": true
    },
    "kernelspec": {
      "name": "python3",
      "display_name": "Python 3"
    },
    "widgets": {
      "application/vnd.jupyter.widget-state+json": {
        "e62a3fc0f5af4682899809e5dffa9c00": {
          "model_module": "@jupyter-widgets/controls",
          "model_name": "HBoxModel",
          "state": {
            "_view_name": "HBoxView",
            "_dom_classes": [],
            "_model_name": "HBoxModel",
            "_view_module": "@jupyter-widgets/controls",
            "_model_module_version": "1.5.0",
            "_view_count": null,
            "_view_module_version": "1.5.0",
            "box_style": "",
            "layout": "IPY_MODEL_48d3d30cdf7e41d9a6aefe0cc3b9e044",
            "_model_module": "@jupyter-widgets/controls",
            "children": [
              "IPY_MODEL_2ff1db1df7a343399f4cd3c30f059ee6",
              "IPY_MODEL_3eb5e750df8849c2a82368612c60c0fa"
            ]
          }
        },
        "48d3d30cdf7e41d9a6aefe0cc3b9e044": {
          "model_module": "@jupyter-widgets/base",
          "model_name": "LayoutModel",
          "state": {
            "_view_name": "LayoutView",
            "grid_template_rows": null,
            "right": null,
            "justify_content": null,
            "_view_module": "@jupyter-widgets/base",
            "overflow": null,
            "_model_module_version": "1.2.0",
            "_view_count": null,
            "flex_flow": null,
            "width": null,
            "min_width": null,
            "border": null,
            "align_items": null,
            "bottom": null,
            "_model_module": "@jupyter-widgets/base",
            "top": null,
            "grid_column": null,
            "overflow_y": null,
            "overflow_x": null,
            "grid_auto_flow": null,
            "grid_area": null,
            "grid_template_columns": null,
            "flex": null,
            "_model_name": "LayoutModel",
            "justify_items": null,
            "grid_row": null,
            "max_height": null,
            "align_content": null,
            "visibility": null,
            "align_self": null,
            "height": null,
            "min_height": null,
            "padding": null,
            "grid_auto_rows": null,
            "grid_gap": null,
            "max_width": null,
            "order": null,
            "_view_module_version": "1.2.0",
            "grid_template_areas": null,
            "object_position": null,
            "object_fit": null,
            "grid_auto_columns": null,
            "margin": null,
            "display": null,
            "left": null
          }
        },
        "2ff1db1df7a343399f4cd3c30f059ee6": {
          "model_module": "@jupyter-widgets/controls",
          "model_name": "IntProgressModel",
          "state": {
            "_view_name": "ProgressView",
            "style": "IPY_MODEL_a11eeb73ee1644189ac409a041767d85",
            "_dom_classes": [],
            "description": "Downloading: 100%",
            "_model_name": "IntProgressModel",
            "bar_style": "success",
            "max": 231508,
            "_view_module": "@jupyter-widgets/controls",
            "_model_module_version": "1.5.0",
            "value": 231508,
            "_view_count": null,
            "_view_module_version": "1.5.0",
            "orientation": "horizontal",
            "min": 0,
            "description_tooltip": null,
            "_model_module": "@jupyter-widgets/controls",
            "layout": "IPY_MODEL_de4d4f3212174cba9b1d57ed5172614d"
          }
        },
        "3eb5e750df8849c2a82368612c60c0fa": {
          "model_module": "@jupyter-widgets/controls",
          "model_name": "HTMLModel",
          "state": {
            "_view_name": "HTMLView",
            "style": "IPY_MODEL_4b59ac2b182d4624b8b23824aba755d1",
            "_dom_classes": [],
            "description": "",
            "_model_name": "HTMLModel",
            "placeholder": "​",
            "_view_module": "@jupyter-widgets/controls",
            "_model_module_version": "1.5.0",
            "value": " 232k/232k [00:00&lt;00:00, 743kB/s]",
            "_view_count": null,
            "_view_module_version": "1.5.0",
            "description_tooltip": null,
            "_model_module": "@jupyter-widgets/controls",
            "layout": "IPY_MODEL_583916ca8c1844968c6033f3e7c245ab"
          }
        },
        "a11eeb73ee1644189ac409a041767d85": {
          "model_module": "@jupyter-widgets/controls",
          "model_name": "ProgressStyleModel",
          "state": {
            "_view_name": "StyleView",
            "_model_name": "ProgressStyleModel",
            "description_width": "initial",
            "_view_module": "@jupyter-widgets/base",
            "_model_module_version": "1.5.0",
            "_view_count": null,
            "_view_module_version": "1.2.0",
            "bar_color": null,
            "_model_module": "@jupyter-widgets/controls"
          }
        },
        "de4d4f3212174cba9b1d57ed5172614d": {
          "model_module": "@jupyter-widgets/base",
          "model_name": "LayoutModel",
          "state": {
            "_view_name": "LayoutView",
            "grid_template_rows": null,
            "right": null,
            "justify_content": null,
            "_view_module": "@jupyter-widgets/base",
            "overflow": null,
            "_model_module_version": "1.2.0",
            "_view_count": null,
            "flex_flow": null,
            "width": null,
            "min_width": null,
            "border": null,
            "align_items": null,
            "bottom": null,
            "_model_module": "@jupyter-widgets/base",
            "top": null,
            "grid_column": null,
            "overflow_y": null,
            "overflow_x": null,
            "grid_auto_flow": null,
            "grid_area": null,
            "grid_template_columns": null,
            "flex": null,
            "_model_name": "LayoutModel",
            "justify_items": null,
            "grid_row": null,
            "max_height": null,
            "align_content": null,
            "visibility": null,
            "align_self": null,
            "height": null,
            "min_height": null,
            "padding": null,
            "grid_auto_rows": null,
            "grid_gap": null,
            "max_width": null,
            "order": null,
            "_view_module_version": "1.2.0",
            "grid_template_areas": null,
            "object_position": null,
            "object_fit": null,
            "grid_auto_columns": null,
            "margin": null,
            "display": null,
            "left": null
          }
        },
        "4b59ac2b182d4624b8b23824aba755d1": {
          "model_module": "@jupyter-widgets/controls",
          "model_name": "DescriptionStyleModel",
          "state": {
            "_view_name": "StyleView",
            "_model_name": "DescriptionStyleModel",
            "description_width": "",
            "_view_module": "@jupyter-widgets/base",
            "_model_module_version": "1.5.0",
            "_view_count": null,
            "_view_module_version": "1.2.0",
            "_model_module": "@jupyter-widgets/controls"
          }
        },
        "583916ca8c1844968c6033f3e7c245ab": {
          "model_module": "@jupyter-widgets/base",
          "model_name": "LayoutModel",
          "state": {
            "_view_name": "LayoutView",
            "grid_template_rows": null,
            "right": null,
            "justify_content": null,
            "_view_module": "@jupyter-widgets/base",
            "overflow": null,
            "_model_module_version": "1.2.0",
            "_view_count": null,
            "flex_flow": null,
            "width": null,
            "min_width": null,
            "border": null,
            "align_items": null,
            "bottom": null,
            "_model_module": "@jupyter-widgets/base",
            "top": null,
            "grid_column": null,
            "overflow_y": null,
            "overflow_x": null,
            "grid_auto_flow": null,
            "grid_area": null,
            "grid_template_columns": null,
            "flex": null,
            "_model_name": "LayoutModel",
            "justify_items": null,
            "grid_row": null,
            "max_height": null,
            "align_content": null,
            "visibility": null,
            "align_self": null,
            "height": null,
            "min_height": null,
            "padding": null,
            "grid_auto_rows": null,
            "grid_gap": null,
            "max_width": null,
            "order": null,
            "_view_module_version": "1.2.0",
            "grid_template_areas": null,
            "object_position": null,
            "object_fit": null,
            "grid_auto_columns": null,
            "margin": null,
            "display": null,
            "left": null
          }
        },
        "eb7facb82d7f487db79c1169d600f1f0": {
          "model_module": "@jupyter-widgets/controls",
          "model_name": "HBoxModel",
          "state": {
            "_view_name": "HBoxView",
            "_dom_classes": [],
            "_model_name": "HBoxModel",
            "_view_module": "@jupyter-widgets/controls",
            "_model_module_version": "1.5.0",
            "_view_count": null,
            "_view_module_version": "1.5.0",
            "box_style": "",
            "layout": "IPY_MODEL_2959740457d444f2b795100e4831bad2",
            "_model_module": "@jupyter-widgets/controls",
            "children": [
              "IPY_MODEL_db281e54a5664fd2a15f04d95529bf20",
              "IPY_MODEL_91e96a1abdfd47f1b9fecc83dcdaee32"
            ]
          }
        },
        "2959740457d444f2b795100e4831bad2": {
          "model_module": "@jupyter-widgets/base",
          "model_name": "LayoutModel",
          "state": {
            "_view_name": "LayoutView",
            "grid_template_rows": null,
            "right": null,
            "justify_content": null,
            "_view_module": "@jupyter-widgets/base",
            "overflow": null,
            "_model_module_version": "1.2.0",
            "_view_count": null,
            "flex_flow": null,
            "width": null,
            "min_width": null,
            "border": null,
            "align_items": null,
            "bottom": null,
            "_model_module": "@jupyter-widgets/base",
            "top": null,
            "grid_column": null,
            "overflow_y": null,
            "overflow_x": null,
            "grid_auto_flow": null,
            "grid_area": null,
            "grid_template_columns": null,
            "flex": null,
            "_model_name": "LayoutModel",
            "justify_items": null,
            "grid_row": null,
            "max_height": null,
            "align_content": null,
            "visibility": null,
            "align_self": null,
            "height": null,
            "min_height": null,
            "padding": null,
            "grid_auto_rows": null,
            "grid_gap": null,
            "max_width": null,
            "order": null,
            "_view_module_version": "1.2.0",
            "grid_template_areas": null,
            "object_position": null,
            "object_fit": null,
            "grid_auto_columns": null,
            "margin": null,
            "display": null,
            "left": null
          }
        },
        "db281e54a5664fd2a15f04d95529bf20": {
          "model_module": "@jupyter-widgets/controls",
          "model_name": "IntProgressModel",
          "state": {
            "_view_name": "ProgressView",
            "style": "IPY_MODEL_d9e1ff7db19b42eeb35d46c8ebe1061b",
            "_dom_classes": [],
            "description": "Downloading: 100%",
            "_model_name": "IntProgressModel",
            "bar_style": "success",
            "max": 361,
            "_view_module": "@jupyter-widgets/controls",
            "_model_module_version": "1.5.0",
            "value": 361,
            "_view_count": null,
            "_view_module_version": "1.5.0",
            "orientation": "horizontal",
            "min": 0,
            "description_tooltip": null,
            "_model_module": "@jupyter-widgets/controls",
            "layout": "IPY_MODEL_bbab34ab059847718025a105bede22bb"
          }
        },
        "91e96a1abdfd47f1b9fecc83dcdaee32": {
          "model_module": "@jupyter-widgets/controls",
          "model_name": "HTMLModel",
          "state": {
            "_view_name": "HTMLView",
            "style": "IPY_MODEL_eb51b5d113824114b867b3a35797d3fc",
            "_dom_classes": [],
            "description": "",
            "_model_name": "HTMLModel",
            "placeholder": "​",
            "_view_module": "@jupyter-widgets/controls",
            "_model_module_version": "1.5.0",
            "value": " 361/361 [00:12&lt;00:00, 29.2B/s]",
            "_view_count": null,
            "_view_module_version": "1.5.0",
            "description_tooltip": null,
            "_model_module": "@jupyter-widgets/controls",
            "layout": "IPY_MODEL_84c4a52945c249c5b5f32af3a1347cb3"
          }
        },
        "d9e1ff7db19b42eeb35d46c8ebe1061b": {
          "model_module": "@jupyter-widgets/controls",
          "model_name": "ProgressStyleModel",
          "state": {
            "_view_name": "StyleView",
            "_model_name": "ProgressStyleModel",
            "description_width": "initial",
            "_view_module": "@jupyter-widgets/base",
            "_model_module_version": "1.5.0",
            "_view_count": null,
            "_view_module_version": "1.2.0",
            "bar_color": null,
            "_model_module": "@jupyter-widgets/controls"
          }
        },
        "bbab34ab059847718025a105bede22bb": {
          "model_module": "@jupyter-widgets/base",
          "model_name": "LayoutModel",
          "state": {
            "_view_name": "LayoutView",
            "grid_template_rows": null,
            "right": null,
            "justify_content": null,
            "_view_module": "@jupyter-widgets/base",
            "overflow": null,
            "_model_module_version": "1.2.0",
            "_view_count": null,
            "flex_flow": null,
            "width": null,
            "min_width": null,
            "border": null,
            "align_items": null,
            "bottom": null,
            "_model_module": "@jupyter-widgets/base",
            "top": null,
            "grid_column": null,
            "overflow_y": null,
            "overflow_x": null,
            "grid_auto_flow": null,
            "grid_area": null,
            "grid_template_columns": null,
            "flex": null,
            "_model_name": "LayoutModel",
            "justify_items": null,
            "grid_row": null,
            "max_height": null,
            "align_content": null,
            "visibility": null,
            "align_self": null,
            "height": null,
            "min_height": null,
            "padding": null,
            "grid_auto_rows": null,
            "grid_gap": null,
            "max_width": null,
            "order": null,
            "_view_module_version": "1.2.0",
            "grid_template_areas": null,
            "object_position": null,
            "object_fit": null,
            "grid_auto_columns": null,
            "margin": null,
            "display": null,
            "left": null
          }
        },
        "eb51b5d113824114b867b3a35797d3fc": {
          "model_module": "@jupyter-widgets/controls",
          "model_name": "DescriptionStyleModel",
          "state": {
            "_view_name": "StyleView",
            "_model_name": "DescriptionStyleModel",
            "description_width": "",
            "_view_module": "@jupyter-widgets/base",
            "_model_module_version": "1.5.0",
            "_view_count": null,
            "_view_module_version": "1.2.0",
            "_model_module": "@jupyter-widgets/controls"
          }
        },
        "84c4a52945c249c5b5f32af3a1347cb3": {
          "model_module": "@jupyter-widgets/base",
          "model_name": "LayoutModel",
          "state": {
            "_view_name": "LayoutView",
            "grid_template_rows": null,
            "right": null,
            "justify_content": null,
            "_view_module": "@jupyter-widgets/base",
            "overflow": null,
            "_model_module_version": "1.2.0",
            "_view_count": null,
            "flex_flow": null,
            "width": null,
            "min_width": null,
            "border": null,
            "align_items": null,
            "bottom": null,
            "_model_module": "@jupyter-widgets/base",
            "top": null,
            "grid_column": null,
            "overflow_y": null,
            "overflow_x": null,
            "grid_auto_flow": null,
            "grid_area": null,
            "grid_template_columns": null,
            "flex": null,
            "_model_name": "LayoutModel",
            "justify_items": null,
            "grid_row": null,
            "max_height": null,
            "align_content": null,
            "visibility": null,
            "align_self": null,
            "height": null,
            "min_height": null,
            "padding": null,
            "grid_auto_rows": null,
            "grid_gap": null,
            "max_width": null,
            "order": null,
            "_view_module_version": "1.2.0",
            "grid_template_areas": null,
            "object_position": null,
            "object_fit": null,
            "grid_auto_columns": null,
            "margin": null,
            "display": null,
            "left": null
          }
        },
        "175d241fab4e412aa9c7826af0956f71": {
          "model_module": "@jupyter-widgets/controls",
          "model_name": "HBoxModel",
          "state": {
            "_view_name": "HBoxView",
            "_dom_classes": [],
            "_model_name": "HBoxModel",
            "_view_module": "@jupyter-widgets/controls",
            "_model_module_version": "1.5.0",
            "_view_count": null,
            "_view_module_version": "1.5.0",
            "box_style": "",
            "layout": "IPY_MODEL_deb732c4874e47b1adb012fc3500c33d",
            "_model_module": "@jupyter-widgets/controls",
            "children": [
              "IPY_MODEL_7d705311f3484303ac36a5cb7a11f665",
              "IPY_MODEL_93260a3a85114d7d9044543f67cf6db2"
            ]
          }
        },
        "deb732c4874e47b1adb012fc3500c33d": {
          "model_module": "@jupyter-widgets/base",
          "model_name": "LayoutModel",
          "state": {
            "_view_name": "LayoutView",
            "grid_template_rows": null,
            "right": null,
            "justify_content": null,
            "_view_module": "@jupyter-widgets/base",
            "overflow": null,
            "_model_module_version": "1.2.0",
            "_view_count": null,
            "flex_flow": null,
            "width": null,
            "min_width": null,
            "border": null,
            "align_items": null,
            "bottom": null,
            "_model_module": "@jupyter-widgets/base",
            "top": null,
            "grid_column": null,
            "overflow_y": null,
            "overflow_x": null,
            "grid_auto_flow": null,
            "grid_area": null,
            "grid_template_columns": null,
            "flex": null,
            "_model_name": "LayoutModel",
            "justify_items": null,
            "grid_row": null,
            "max_height": null,
            "align_content": null,
            "visibility": null,
            "align_self": null,
            "height": null,
            "min_height": null,
            "padding": null,
            "grid_auto_rows": null,
            "grid_gap": null,
            "max_width": null,
            "order": null,
            "_view_module_version": "1.2.0",
            "grid_template_areas": null,
            "object_position": null,
            "object_fit": null,
            "grid_auto_columns": null,
            "margin": null,
            "display": null,
            "left": null
          }
        },
        "7d705311f3484303ac36a5cb7a11f665": {
          "model_module": "@jupyter-widgets/controls",
          "model_name": "IntProgressModel",
          "state": {
            "_view_name": "ProgressView",
            "style": "IPY_MODEL_c809ef18d8a948b5ae0a3d1596d70a34",
            "_dom_classes": [],
            "description": "Downloading: 100%",
            "_model_name": "IntProgressModel",
            "bar_style": "success",
            "max": 440473133,
            "_view_module": "@jupyter-widgets/controls",
            "_model_module_version": "1.5.0",
            "value": 440473133,
            "_view_count": null,
            "_view_module_version": "1.5.0",
            "orientation": "horizontal",
            "min": 0,
            "description_tooltip": null,
            "_model_module": "@jupyter-widgets/controls",
            "layout": "IPY_MODEL_0db7114aadca474dbdad466b0cda6305"
          }
        },
        "93260a3a85114d7d9044543f67cf6db2": {
          "model_module": "@jupyter-widgets/controls",
          "model_name": "HTMLModel",
          "state": {
            "_view_name": "HTMLView",
            "style": "IPY_MODEL_5b06af87d6e94c88822f3e7b58ab668a",
            "_dom_classes": [],
            "description": "",
            "_model_name": "HTMLModel",
            "placeholder": "​",
            "_view_module": "@jupyter-widgets/controls",
            "_model_module_version": "1.5.0",
            "value": " 440M/440M [00:11&lt;00:00, 37.4MB/s]",
            "_view_count": null,
            "_view_module_version": "1.5.0",
            "description_tooltip": null,
            "_model_module": "@jupyter-widgets/controls",
            "layout": "IPY_MODEL_cf912e1d1b024dccae4a045678a6dfde"
          }
        },
        "c809ef18d8a948b5ae0a3d1596d70a34": {
          "model_module": "@jupyter-widgets/controls",
          "model_name": "ProgressStyleModel",
          "state": {
            "_view_name": "StyleView",
            "_model_name": "ProgressStyleModel",
            "description_width": "initial",
            "_view_module": "@jupyter-widgets/base",
            "_model_module_version": "1.5.0",
            "_view_count": null,
            "_view_module_version": "1.2.0",
            "bar_color": null,
            "_model_module": "@jupyter-widgets/controls"
          }
        },
        "0db7114aadca474dbdad466b0cda6305": {
          "model_module": "@jupyter-widgets/base",
          "model_name": "LayoutModel",
          "state": {
            "_view_name": "LayoutView",
            "grid_template_rows": null,
            "right": null,
            "justify_content": null,
            "_view_module": "@jupyter-widgets/base",
            "overflow": null,
            "_model_module_version": "1.2.0",
            "_view_count": null,
            "flex_flow": null,
            "width": null,
            "min_width": null,
            "border": null,
            "align_items": null,
            "bottom": null,
            "_model_module": "@jupyter-widgets/base",
            "top": null,
            "grid_column": null,
            "overflow_y": null,
            "overflow_x": null,
            "grid_auto_flow": null,
            "grid_area": null,
            "grid_template_columns": null,
            "flex": null,
            "_model_name": "LayoutModel",
            "justify_items": null,
            "grid_row": null,
            "max_height": null,
            "align_content": null,
            "visibility": null,
            "align_self": null,
            "height": null,
            "min_height": null,
            "padding": null,
            "grid_auto_rows": null,
            "grid_gap": null,
            "max_width": null,
            "order": null,
            "_view_module_version": "1.2.0",
            "grid_template_areas": null,
            "object_position": null,
            "object_fit": null,
            "grid_auto_columns": null,
            "margin": null,
            "display": null,
            "left": null
          }
        },
        "5b06af87d6e94c88822f3e7b58ab668a": {
          "model_module": "@jupyter-widgets/controls",
          "model_name": "DescriptionStyleModel",
          "state": {
            "_view_name": "StyleView",
            "_model_name": "DescriptionStyleModel",
            "description_width": "",
            "_view_module": "@jupyter-widgets/base",
            "_model_module_version": "1.5.0",
            "_view_count": null,
            "_view_module_version": "1.2.0",
            "_model_module": "@jupyter-widgets/controls"
          }
        },
        "cf912e1d1b024dccae4a045678a6dfde": {
          "model_module": "@jupyter-widgets/base",
          "model_name": "LayoutModel",
          "state": {
            "_view_name": "LayoutView",
            "grid_template_rows": null,
            "right": null,
            "justify_content": null,
            "_view_module": "@jupyter-widgets/base",
            "overflow": null,
            "_model_module_version": "1.2.0",
            "_view_count": null,
            "flex_flow": null,
            "width": null,
            "min_width": null,
            "border": null,
            "align_items": null,
            "bottom": null,
            "_model_module": "@jupyter-widgets/base",
            "top": null,
            "grid_column": null,
            "overflow_y": null,
            "overflow_x": null,
            "grid_auto_flow": null,
            "grid_area": null,
            "grid_template_columns": null,
            "flex": null,
            "_model_name": "LayoutModel",
            "justify_items": null,
            "grid_row": null,
            "max_height": null,
            "align_content": null,
            "visibility": null,
            "align_self": null,
            "height": null,
            "min_height": null,
            "padding": null,
            "grid_auto_rows": null,
            "grid_gap": null,
            "max_width": null,
            "order": null,
            "_view_module_version": "1.2.0",
            "grid_template_areas": null,
            "object_position": null,
            "object_fit": null,
            "grid_auto_columns": null,
            "margin": null,
            "display": null,
            "left": null
          }
        }
      }
    }
  },
  "cells": [
    {
      "cell_type": "markdown",
      "metadata": {
        "id": "view-in-github",
        "colab_type": "text"
      },
      "source": [
        "<a href=\"https://colab.research.google.com/github/shreeshaa/BDA-homework-1/blob/master/websearch2030.ipynb\" target=\"_parent\"><img src=\"https://colab.research.google.com/assets/colab-badge.svg\" alt=\"Open In Colab\"/></a>"
      ]
    },
    {
      "cell_type": "code",
      "metadata": {
        "id": "P-FSGesLeW1k",
        "colab_type": "code",
        "colab": {
          "base_uri": "https://localhost:8080/",
          "height": 1000,
          "referenced_widgets": [
            "e62a3fc0f5af4682899809e5dffa9c00",
            "48d3d30cdf7e41d9a6aefe0cc3b9e044",
            "2ff1db1df7a343399f4cd3c30f059ee6",
            "3eb5e750df8849c2a82368612c60c0fa",
            "a11eeb73ee1644189ac409a041767d85",
            "de4d4f3212174cba9b1d57ed5172614d",
            "4b59ac2b182d4624b8b23824aba755d1",
            "583916ca8c1844968c6033f3e7c245ab",
            "eb7facb82d7f487db79c1169d600f1f0",
            "2959740457d444f2b795100e4831bad2",
            "db281e54a5664fd2a15f04d95529bf20",
            "91e96a1abdfd47f1b9fecc83dcdaee32",
            "d9e1ff7db19b42eeb35d46c8ebe1061b",
            "bbab34ab059847718025a105bede22bb",
            "eb51b5d113824114b867b3a35797d3fc",
            "84c4a52945c249c5b5f32af3a1347cb3",
            "175d241fab4e412aa9c7826af0956f71",
            "deb732c4874e47b1adb012fc3500c33d",
            "7d705311f3484303ac36a5cb7a11f665",
            "93260a3a85114d7d9044543f67cf6db2",
            "c809ef18d8a948b5ae0a3d1596d70a34",
            "0db7114aadca474dbdad466b0cda6305",
            "5b06af87d6e94c88822f3e7b58ab668a",
            "cf912e1d1b024dccae4a045678a6dfde"
          ]
        },
        "outputId": "e429a8c2-72ec-4d35-8423-e9747ad1fbef"
      },
      "source": [
        "!pip install tweet-preprocessor\n",
        "import pandas as pd\n",
        "import numpy as np\n",
        "import scipy as sp\n",
        "import re\n",
        "import nltk\n",
        "from bs4 import BeautifulSoup\n",
        "from nltk.corpus import stopwords\n",
        "from copy import deepcopy\n",
        "from bs4 import BeautifulSoup\n",
        "import nltk\n",
        "nltk.download('stopwords')\n",
        "from nltk.stem import PorterStemmer \n",
        "\n",
        "import preprocessor as p\n",
        "\n",
        "from google.colab import drive\n",
        "drive.mount('/content/drive')\n",
        "\n",
        "data = pd.read_csv(\"/content/drive/My Drive/WebProject/labeledTrainData.csv\", delimiter=\"\\t\",names=[\"tweet\", \"label\", \"labelValue\"])\n",
        "\n",
        "data[\"label\"].replace({\"spam\": \"neutral\", \"normal\": \"neutral\"}, inplace=True)\n",
        "data[\"label\"].replace({\"neutral\":1, \"abusive\": 2,\"hateful\":3}, inplace=True)\n",
        "\n",
        "def preprocess_tweet(tweet):\n",
        "\n",
        "    # 1. Remove URLs, emojis, mentions, smileys using tweet-preprocessor library\n",
        "    # should not remove hashtags as hashtags contains important tweet content.\n",
        "    \n",
        "    #p.set_options(p.OPT.URL, p.OPT.EMOJI, p.OPT.MENTION,p.OPT.RESERVED,\tp.OPT.SMILEY,p.OPT.NUMBER)\n",
        "    clean = p.clean(tweet)\n",
        "    # 2. Remove HTML tags using Beautiful soup library\n",
        "    no_tag = BeautifulSoup(clean).get_text()\n",
        "\n",
        "    # 3. Expanding hashtags.\n",
        "    \n",
        "    #tweets_expanded = expand_hashtags(no_tag)\n",
        "\n",
        "    # 4. Remove non letter char using re\n",
        "    letters_only = re.sub(\"[^a-zA-Z]\",\" \", no_tag)\n",
        "    #letters_only = re.sub(\"[^a-zA-Z]\",\" \", tweets_expanded)\n",
        "    \n",
        "    # 5. Convert to lower case\n",
        "    lower_case = letters_only.lower()\n",
        "    words = lower_case.split()\n",
        "\n",
        "    new_words = []\n",
        "    # ps = PorterStemmer() \n",
        "    # for w in words:\n",
        "    #     new_words.append(ps.stem(w))\n",
        "    for w in words:\n",
        "        new_words.append(w)\n",
        "    # print(new_words[0:4])\n",
        "    # 5. Remove stop words\n",
        "    # stops = set(stopwords.words(\"english\")) \n",
        "    # final_words = [w for w in new_words if not w in stops]\n",
        "    final_words = new_words\n",
        "\n",
        "    return(\" \".join( final_words ))\n",
        "\n",
        "data[\"tweet\"][0]\n",
        "\n",
        "num_tweets = data[\"tweet\"].size\n",
        "# print(num_tweets)\n",
        "for i in range(num_tweets):\n",
        "    data[\"tweet\"][i] = preprocess_tweet(data[\"tweet\"][i])\n",
        "\n",
        "data\n",
        "\n",
        "hateful = data[\"label\"]==3\n",
        "hateful = data[hateful]\n",
        "# hateful = hateful.sample(frac=1)\n",
        "# hateful = hateful.reset_index(drop=True)\n",
        "# hateful = hateful[:4333]\n",
        "hateful['hateful'] = 1\n",
        "hateful['abusive'] = 0\n",
        "hateful['neutral'] = 0\n",
        "\n",
        "hateful\n",
        "\n",
        "abusive = data[\"label\"]==2\n",
        "abusive = data[abusive]\n",
        "# abusive = abusive.sample(frac=1)\n",
        "# abusive = abusive.reset_index(drop=True)\n",
        "# abusive = abusive[:4333]\n",
        "abusive['hateful'] = 0\n",
        "abusive['abusive'] = 1\n",
        "abusive['neutral'] = 0\n",
        "\n",
        "abusive\n",
        "\n",
        "neutral = data[\"label\"]==1\n",
        "neutral = data[neutral]\n",
        "# neutral = neutral.sample(frac=1)\n",
        "# neutral = neutral.reset_index(drop=True)\n",
        "# neutral = neutral[:4334]\n",
        "neutral['hateful'] = 0\n",
        "neutral['abusive'] = 0\n",
        "neutral['neutral'] = 1\n",
        "\n",
        "union = pd.concat([hateful, abusive,neutral])\n",
        "\n",
        "union = union.sample(frac=1, random_state=1).reset_index(drop=True)\n",
        "\n",
        "union.shape\n",
        "\n",
        "union\n",
        "\n",
        "train = union[:69996]\n",
        "validation = union[69996:79996]\n",
        "test = union[79996:99996]\n",
        "\n",
        "train[train[\"label\"] == 3]\n",
        "\n",
        "%matplotlib inline\n",
        "\n",
        "!pip install transformers\n",
        "\n",
        "import logging\n",
        "import time\n",
        "from platform import python_version\n",
        "\n",
        "import matplotlib\n",
        "import matplotlib.pyplot as plt\n",
        "import numpy as np\n",
        "import pandas as pd\n",
        "import sklearn\n",
        "import torch\n",
        "import torch.nn as nn\n",
        "import torch.nn.functional as F\n",
        "import transformers\n",
        "from sklearn.metrics import roc_auc_score\n",
        "from torch.autograd import Variable\n",
        "\n",
        "model_class = transformers.BertModel\n",
        "tokenizer_class = transformers.BertTokenizer\n",
        "pretrained_weights='bert-base-uncased'\n",
        "# Load pretrained model/tokenizer\n",
        "tokenizer = tokenizer_class.from_pretrained(pretrained_weights)\n",
        "bert_model = model_class.from_pretrained(pretrained_weights)\n",
        "\n",
        "max_seq = 100\n",
        "target_columns = [\"hateful\", \"abusive\", \"neutral\"]\n",
        "\n",
        "def tokenize_text(df, max_seq):\n",
        "    return [\n",
        "        tokenizer.encode(text, add_special_tokens=True)[:max_seq] for text in df.tweet.values\n",
        "    ]\n",
        "\n",
        "\n",
        "def pad_text(tokenized_text, max_seq):\n",
        "    return np.array([el + [0] * (max_seq - len(el)) for el in tokenized_text])\n",
        "\n",
        "\n",
        "def tokenize_and_pad_text(df, max_seq):\n",
        "    tokenized_text = tokenize_text(df, max_seq)\n",
        "    padded_text = pad_text(tokenized_text, max_seq)\n",
        "    return torch.tensor(padded_text)\n",
        "\n",
        "\n",
        "def targets_to_tensor(df):\n",
        "    return torch.tensor(df[target_columns].values, dtype=torch.float32)\n",
        "\n",
        "train_indices = tokenize_and_pad_text(train, max_seq)\n",
        "val_indices = tokenize_and_pad_text(validation, max_seq)\n",
        "test_indices = tokenize_and_pad_text(test, max_seq)\n",
        "\n",
        "train_indices.shape\n",
        "\n",
        "with torch.no_grad():\n",
        "  for i in range(20,30):\n",
        "    if i == 20:\n",
        "      x_train = bert_model(train_indices[:1000])[0]  \n",
        "    else:\n",
        "      x_train = torch.cat((x_train,bert_model(train_indices[i*1000:(i+1)*1000])[0]),dim=0)\n",
        "      \n",
        "\n",
        "x_train"
      ],
      "execution_count": 1,
      "outputs": [
        {
          "output_type": "stream",
          "text": [
            "Collecting tweet-preprocessor\n",
            "  Downloading https://files.pythonhosted.org/packages/2a/f8/810ec35c31cca89bc4f1a02c14b042b9ec6c19dd21f7ef1876874ef069a6/tweet-preprocessor-0.5.0.tar.gz\n",
            "Building wheels for collected packages: tweet-preprocessor\n",
            "  Building wheel for tweet-preprocessor (setup.py) ... \u001b[?25l\u001b[?25hdone\n",
            "  Created wheel for tweet-preprocessor: filename=tweet_preprocessor-0.5.0-cp36-none-any.whl size=7947 sha256=b4726963af558b1589ccc5d9507a8d54468783885d6c35711ad1a166c1f1aed6\n",
            "  Stored in directory: /root/.cache/pip/wheels/1b/27/cc/49938e98a2470802ebdefae9d2b3f524768e970c1ebbe2dc4a\n",
            "Successfully built tweet-preprocessor\n",
            "Installing collected packages: tweet-preprocessor\n",
            "Successfully installed tweet-preprocessor-0.5.0\n",
            "[nltk_data] Downloading package stopwords to /root/nltk_data...\n",
            "[nltk_data]   Unzipping corpora/stopwords.zip.\n",
            "Go to this URL in a browser: https://accounts.google.com/o/oauth2/auth?client_id=947318989803-6bn6qk8qdgf4n4g3pfee6491hc0brc4i.apps.googleusercontent.com&redirect_uri=urn%3aietf%3awg%3aoauth%3a2.0%3aoob&response_type=code&scope=email%20https%3a%2f%2fwww.googleapis.com%2fauth%2fdocs.test%20https%3a%2f%2fwww.googleapis.com%2fauth%2fdrive%20https%3a%2f%2fwww.googleapis.com%2fauth%2fdrive.photos.readonly%20https%3a%2f%2fwww.googleapis.com%2fauth%2fpeopleapi.readonly\n",
            "\n",
            "Enter your authorization code:\n",
            "··········\n",
            "Mounted at /content/drive\n"
          ],
          "name": "stdout"
        },
        {
          "output_type": "stream",
          "text": [
            "/usr/local/lib/python3.6/dist-packages/ipykernel_launcher.py:66: SettingWithCopyWarning: \n",
            "A value is trying to be set on a copy of a slice from a DataFrame\n",
            "\n",
            "See the caveats in the documentation: https://pandas.pydata.org/pandas-docs/stable/user_guide/indexing.html#returning-a-view-versus-a-copy\n",
            "/usr/local/lib/python3.6/dist-packages/ipykernel_launcher.py:75: SettingWithCopyWarning: \n",
            "A value is trying to be set on a copy of a slice from a DataFrame.\n",
            "Try using .loc[row_indexer,col_indexer] = value instead\n",
            "\n",
            "See the caveats in the documentation: https://pandas.pydata.org/pandas-docs/stable/user_guide/indexing.html#returning-a-view-versus-a-copy\n",
            "/usr/local/lib/python3.6/dist-packages/ipykernel_launcher.py:76: SettingWithCopyWarning: \n",
            "A value is trying to be set on a copy of a slice from a DataFrame.\n",
            "Try using .loc[row_indexer,col_indexer] = value instead\n",
            "\n",
            "See the caveats in the documentation: https://pandas.pydata.org/pandas-docs/stable/user_guide/indexing.html#returning-a-view-versus-a-copy\n",
            "/usr/local/lib/python3.6/dist-packages/ipykernel_launcher.py:77: SettingWithCopyWarning: \n",
            "A value is trying to be set on a copy of a slice from a DataFrame.\n",
            "Try using .loc[row_indexer,col_indexer] = value instead\n",
            "\n",
            "See the caveats in the documentation: https://pandas.pydata.org/pandas-docs/stable/user_guide/indexing.html#returning-a-view-versus-a-copy\n",
            "/usr/local/lib/python3.6/dist-packages/ipykernel_launcher.py:86: SettingWithCopyWarning: \n",
            "A value is trying to be set on a copy of a slice from a DataFrame.\n",
            "Try using .loc[row_indexer,col_indexer] = value instead\n",
            "\n",
            "See the caveats in the documentation: https://pandas.pydata.org/pandas-docs/stable/user_guide/indexing.html#returning-a-view-versus-a-copy\n",
            "/usr/local/lib/python3.6/dist-packages/ipykernel_launcher.py:87: SettingWithCopyWarning: \n",
            "A value is trying to be set on a copy of a slice from a DataFrame.\n",
            "Try using .loc[row_indexer,col_indexer] = value instead\n",
            "\n",
            "See the caveats in the documentation: https://pandas.pydata.org/pandas-docs/stable/user_guide/indexing.html#returning-a-view-versus-a-copy\n",
            "/usr/local/lib/python3.6/dist-packages/ipykernel_launcher.py:88: SettingWithCopyWarning: \n",
            "A value is trying to be set on a copy of a slice from a DataFrame.\n",
            "Try using .loc[row_indexer,col_indexer] = value instead\n",
            "\n",
            "See the caveats in the documentation: https://pandas.pydata.org/pandas-docs/stable/user_guide/indexing.html#returning-a-view-versus-a-copy\n",
            "/usr/local/lib/python3.6/dist-packages/ipykernel_launcher.py:97: SettingWithCopyWarning: \n",
            "A value is trying to be set on a copy of a slice from a DataFrame.\n",
            "Try using .loc[row_indexer,col_indexer] = value instead\n",
            "\n",
            "See the caveats in the documentation: https://pandas.pydata.org/pandas-docs/stable/user_guide/indexing.html#returning-a-view-versus-a-copy\n",
            "/usr/local/lib/python3.6/dist-packages/ipykernel_launcher.py:98: SettingWithCopyWarning: \n",
            "A value is trying to be set on a copy of a slice from a DataFrame.\n",
            "Try using .loc[row_indexer,col_indexer] = value instead\n",
            "\n",
            "See the caveats in the documentation: https://pandas.pydata.org/pandas-docs/stable/user_guide/indexing.html#returning-a-view-versus-a-copy\n",
            "/usr/local/lib/python3.6/dist-packages/ipykernel_launcher.py:99: SettingWithCopyWarning: \n",
            "A value is trying to be set on a copy of a slice from a DataFrame.\n",
            "Try using .loc[row_indexer,col_indexer] = value instead\n",
            "\n",
            "See the caveats in the documentation: https://pandas.pydata.org/pandas-docs/stable/user_guide/indexing.html#returning-a-view-versus-a-copy\n"
          ],
          "name": "stderr"
        },
        {
          "output_type": "stream",
          "text": [
            "Collecting transformers\n",
            "\u001b[?25l  Downloading https://files.pythonhosted.org/packages/a3/78/92cedda05552398352ed9784908b834ee32a0bd071a9b32de287327370b7/transformers-2.8.0-py3-none-any.whl (563kB)\n",
            "\r\u001b[K     |▋                               | 10kB 19.1MB/s eta 0:00:01\r\u001b[K     |█▏                              | 20kB 3.2MB/s eta 0:00:01\r\u001b[K     |█▊                              | 30kB 3.8MB/s eta 0:00:01\r\u001b[K     |██▎                             | 40kB 2.9MB/s eta 0:00:01\r\u001b[K     |███                             | 51kB 3.2MB/s eta 0:00:01\r\u001b[K     |███▌                            | 61kB 3.9MB/s eta 0:00:01\r\u001b[K     |████                            | 71kB 4.1MB/s eta 0:00:01\r\u001b[K     |████▋                           | 81kB 4.3MB/s eta 0:00:01\r\u001b[K     |█████▎                          | 92kB 4.8MB/s eta 0:00:01\r\u001b[K     |█████▉                          | 102kB 4.8MB/s eta 0:00:01\r\u001b[K     |██████▍                         | 112kB 4.8MB/s eta 0:00:01\r\u001b[K     |███████                         | 122kB 4.8MB/s eta 0:00:01\r\u001b[K     |███████▋                        | 133kB 4.8MB/s eta 0:00:01\r\u001b[K     |████████▏                       | 143kB 4.8MB/s eta 0:00:01\r\u001b[K     |████████▊                       | 153kB 4.8MB/s eta 0:00:01\r\u001b[K     |█████████▎                      | 163kB 4.8MB/s eta 0:00:01\r\u001b[K     |█████████▉                      | 174kB 4.8MB/s eta 0:00:01\r\u001b[K     |██████████▌                     | 184kB 4.8MB/s eta 0:00:01\r\u001b[K     |███████████                     | 194kB 4.8MB/s eta 0:00:01\r\u001b[K     |███████████▋                    | 204kB 4.8MB/s eta 0:00:01\r\u001b[K     |████████████▏                   | 215kB 4.8MB/s eta 0:00:01\r\u001b[K     |████████████▉                   | 225kB 4.8MB/s eta 0:00:01\r\u001b[K     |█████████████▍                  | 235kB 4.8MB/s eta 0:00:01\r\u001b[K     |██████████████                  | 245kB 4.8MB/s eta 0:00:01\r\u001b[K     |██████████████▌                 | 256kB 4.8MB/s eta 0:00:01\r\u001b[K     |███████████████▏                | 266kB 4.8MB/s eta 0:00:01\r\u001b[K     |███████████████▊                | 276kB 4.8MB/s eta 0:00:01\r\u001b[K     |████████████████▎               | 286kB 4.8MB/s eta 0:00:01\r\u001b[K     |████████████████▉               | 296kB 4.8MB/s eta 0:00:01\r\u001b[K     |█████████████████▍              | 307kB 4.8MB/s eta 0:00:01\r\u001b[K     |██████████████████              | 317kB 4.8MB/s eta 0:00:01\r\u001b[K     |██████████████████▋             | 327kB 4.8MB/s eta 0:00:01\r\u001b[K     |███████████████████▏            | 337kB 4.8MB/s eta 0:00:01\r\u001b[K     |███████████████████▊            | 348kB 4.8MB/s eta 0:00:01\r\u001b[K     |████████████████████▍           | 358kB 4.8MB/s eta 0:00:01\r\u001b[K     |█████████████████████           | 368kB 4.8MB/s eta 0:00:01\r\u001b[K     |█████████████████████▌          | 378kB 4.8MB/s eta 0:00:01\r\u001b[K     |██████████████████████          | 389kB 4.8MB/s eta 0:00:01\r\u001b[K     |██████████████████████▊         | 399kB 4.8MB/s eta 0:00:01\r\u001b[K     |███████████████████████▎        | 409kB 4.8MB/s eta 0:00:01\r\u001b[K     |███████████████████████▉        | 419kB 4.8MB/s eta 0:00:01\r\u001b[K     |████████████████████████▍       | 430kB 4.8MB/s eta 0:00:01\r\u001b[K     |█████████████████████████       | 440kB 4.8MB/s eta 0:00:01\r\u001b[K     |█████████████████████████▋      | 450kB 4.8MB/s eta 0:00:01\r\u001b[K     |██████████████████████████▏     | 460kB 4.8MB/s eta 0:00:01\r\u001b[K     |██████████████████████████▊     | 471kB 4.8MB/s eta 0:00:01\r\u001b[K     |███████████████████████████▎    | 481kB 4.8MB/s eta 0:00:01\r\u001b[K     |████████████████████████████    | 491kB 4.8MB/s eta 0:00:01\r\u001b[K     |████████████████████████████▌   | 501kB 4.8MB/s eta 0:00:01\r\u001b[K     |█████████████████████████████   | 512kB 4.8MB/s eta 0:00:01\r\u001b[K     |█████████████████████████████▋  | 522kB 4.8MB/s eta 0:00:01\r\u001b[K     |██████████████████████████████▎ | 532kB 4.8MB/s eta 0:00:01\r\u001b[K     |██████████████████████████████▉ | 542kB 4.8MB/s eta 0:00:01\r\u001b[K     |███████████████████████████████▍| 552kB 4.8MB/s eta 0:00:01\r\u001b[K     |████████████████████████████████| 563kB 4.8MB/s eta 0:00:01\r\u001b[K     |████████████████████████████████| 573kB 4.8MB/s \n",
            "\u001b[?25hRequirement already satisfied: regex!=2019.12.17 in /usr/local/lib/python3.6/dist-packages (from transformers) (2019.12.20)\n",
            "Requirement already satisfied: dataclasses; python_version < \"3.7\" in /usr/local/lib/python3.6/dist-packages (from transformers) (0.7)\n",
            "Collecting sentencepiece\n",
            "\u001b[?25l  Downloading https://files.pythonhosted.org/packages/74/f4/2d5214cbf13d06e7cb2c20d84115ca25b53ea76fa1f0ade0e3c9749de214/sentencepiece-0.1.85-cp36-cp36m-manylinux1_x86_64.whl (1.0MB)\n",
            "\u001b[K     |████████████████████████████████| 1.0MB 15.5MB/s \n",
            "\u001b[?25hRequirement already satisfied: filelock in /usr/local/lib/python3.6/dist-packages (from transformers) (3.0.12)\n",
            "Requirement already satisfied: numpy in /usr/local/lib/python3.6/dist-packages (from transformers) (1.18.2)\n",
            "Collecting tokenizers==0.5.2\n",
            "\u001b[?25l  Downloading https://files.pythonhosted.org/packages/d1/3f/73c881ea4723e43c1e9acf317cf407fab3a278daab3a69c98dcac511c04f/tokenizers-0.5.2-cp36-cp36m-manylinux1_x86_64.whl (3.7MB)\n",
            "\u001b[K     |████████████████████████████████| 3.7MB 32.2MB/s \n",
            "\u001b[?25hRequirement already satisfied: requests in /usr/local/lib/python3.6/dist-packages (from transformers) (2.21.0)\n",
            "Requirement already satisfied: boto3 in /usr/local/lib/python3.6/dist-packages (from transformers) (1.12.40)\n",
            "Collecting sacremoses\n",
            "\u001b[?25l  Downloading https://files.pythonhosted.org/packages/99/50/93509f906a40bffd7d175f97fd75ea328ad9bd91f48f59c4bd084c94a25e/sacremoses-0.0.41.tar.gz (883kB)\n",
            "\u001b[K     |████████████████████████████████| 890kB 45.7MB/s \n",
            "\u001b[?25hRequirement already satisfied: tqdm>=4.27 in /usr/local/lib/python3.6/dist-packages (from transformers) (4.38.0)\n",
            "Requirement already satisfied: certifi>=2017.4.17 in /usr/local/lib/python3.6/dist-packages (from requests->transformers) (2020.4.5.1)\n",
            "Requirement already satisfied: idna<2.9,>=2.5 in /usr/local/lib/python3.6/dist-packages (from requests->transformers) (2.8)\n",
            "Requirement already satisfied: chardet<3.1.0,>=3.0.2 in /usr/local/lib/python3.6/dist-packages (from requests->transformers) (3.0.4)\n",
            "Requirement already satisfied: urllib3<1.25,>=1.21.1 in /usr/local/lib/python3.6/dist-packages (from requests->transformers) (1.24.3)\n",
            "Requirement already satisfied: jmespath<1.0.0,>=0.7.1 in /usr/local/lib/python3.6/dist-packages (from boto3->transformers) (0.9.5)\n",
            "Requirement already satisfied: s3transfer<0.4.0,>=0.3.0 in /usr/local/lib/python3.6/dist-packages (from boto3->transformers) (0.3.3)\n",
            "Requirement already satisfied: botocore<1.16.0,>=1.15.40 in /usr/local/lib/python3.6/dist-packages (from boto3->transformers) (1.15.40)\n",
            "Requirement already satisfied: six in /usr/local/lib/python3.6/dist-packages (from sacremoses->transformers) (1.12.0)\n",
            "Requirement already satisfied: click in /usr/local/lib/python3.6/dist-packages (from sacremoses->transformers) (7.1.1)\n",
            "Requirement already satisfied: joblib in /usr/local/lib/python3.6/dist-packages (from sacremoses->transformers) (0.14.1)\n",
            "Requirement already satisfied: docutils<0.16,>=0.10 in /usr/local/lib/python3.6/dist-packages (from botocore<1.16.0,>=1.15.40->boto3->transformers) (0.15.2)\n",
            "Requirement already satisfied: python-dateutil<3.0.0,>=2.1 in /usr/local/lib/python3.6/dist-packages (from botocore<1.16.0,>=1.15.40->boto3->transformers) (2.8.1)\n",
            "Building wheels for collected packages: sacremoses\n",
            "  Building wheel for sacremoses (setup.py) ... \u001b[?25l\u001b[?25hdone\n",
            "  Created wheel for sacremoses: filename=sacremoses-0.0.41-cp36-none-any.whl size=893334 sha256=6010b03ab886e1115e1779a3550312df74b6d6a350003e0c437e8c31d6e44159\n",
            "  Stored in directory: /root/.cache/pip/wheels/22/5a/d4/b020a81249de7dc63758a34222feaa668dbe8ebfe9170cc9b1\n",
            "Successfully built sacremoses\n",
            "Installing collected packages: sentencepiece, tokenizers, sacremoses, transformers\n",
            "Successfully installed sacremoses-0.0.41 sentencepiece-0.1.85 tokenizers-0.5.2 transformers-2.8.0\n"
          ],
          "name": "stdout"
        },
        {
          "output_type": "display_data",
          "data": {
            "application/vnd.jupyter.widget-view+json": {
              "model_id": "e62a3fc0f5af4682899809e5dffa9c00",
              "version_minor": 0,
              "version_major": 2
            },
            "text/plain": [
              "HBox(children=(IntProgress(value=0, description='Downloading', max=231508, style=ProgressStyle(description_wid…"
            ]
          },
          "metadata": {
            "tags": []
          }
        },
        {
          "output_type": "stream",
          "text": [
            "\n"
          ],
          "name": "stdout"
        },
        {
          "output_type": "display_data",
          "data": {
            "application/vnd.jupyter.widget-view+json": {
              "model_id": "eb7facb82d7f487db79c1169d600f1f0",
              "version_minor": 0,
              "version_major": 2
            },
            "text/plain": [
              "HBox(children=(IntProgress(value=0, description='Downloading', max=361, style=ProgressStyle(description_width=…"
            ]
          },
          "metadata": {
            "tags": []
          }
        },
        {
          "output_type": "stream",
          "text": [
            "\n"
          ],
          "name": "stdout"
        },
        {
          "output_type": "display_data",
          "data": {
            "application/vnd.jupyter.widget-view+json": {
              "model_id": "175d241fab4e412aa9c7826af0956f71",
              "version_minor": 0,
              "version_major": 2
            },
            "text/plain": [
              "HBox(children=(IntProgress(value=0, description='Downloading', max=440473133, style=ProgressStyle(description_…"
            ]
          },
          "metadata": {
            "tags": []
          }
        },
        {
          "output_type": "stream",
          "text": [
            "\n"
          ],
          "name": "stdout"
        },
        {
          "output_type": "error",
          "ename": "NameError",
          "evalue": "ignored",
          "traceback": [
            "\u001b[0;31m---------------------------------------------------------------------------\u001b[0m",
            "\u001b[0;31mNameError\u001b[0m                                 Traceback (most recent call last)",
            "\u001b[0;32m<ipython-input-1-de69e7e39b39>\u001b[0m in \u001b[0;36m<module>\u001b[0;34m()\u001b[0m\n\u001b[1;32m    173\u001b[0m       \u001b[0mx_train\u001b[0m \u001b[0;34m=\u001b[0m \u001b[0mbert_model\u001b[0m\u001b[0;34m(\u001b[0m\u001b[0mtrain_indices\u001b[0m\u001b[0;34m[\u001b[0m\u001b[0;34m:\u001b[0m\u001b[0;36m1000\u001b[0m\u001b[0;34m]\u001b[0m\u001b[0;34m)\u001b[0m\u001b[0;34m[\u001b[0m\u001b[0;36m0\u001b[0m\u001b[0;34m]\u001b[0m\u001b[0;34m\u001b[0m\u001b[0;34m\u001b[0m\u001b[0m\n\u001b[1;32m    174\u001b[0m     \u001b[0;32melse\u001b[0m\u001b[0;34m:\u001b[0m\u001b[0;34m\u001b[0m\u001b[0;34m\u001b[0m\u001b[0m\n\u001b[0;32m--> 175\u001b[0;31m       \u001b[0mx_train\u001b[0m \u001b[0;34m=\u001b[0m \u001b[0mtorch\u001b[0m\u001b[0;34m.\u001b[0m\u001b[0mcat\u001b[0m\u001b[0;34m(\u001b[0m\u001b[0;34m(\u001b[0m\u001b[0mx_train\u001b[0m\u001b[0;34m,\u001b[0m\u001b[0mbert_model\u001b[0m\u001b[0;34m(\u001b[0m\u001b[0mtrain_indices\u001b[0m\u001b[0;34m[\u001b[0m\u001b[0mi\u001b[0m\u001b[0;34m*\u001b[0m\u001b[0;36m1000\u001b[0m\u001b[0;34m:\u001b[0m\u001b[0;34m(\u001b[0m\u001b[0mi\u001b[0m\u001b[0;34m+\u001b[0m\u001b[0;36m1\u001b[0m\u001b[0;34m)\u001b[0m\u001b[0;34m*\u001b[0m\u001b[0;36m1000\u001b[0m\u001b[0;34m]\u001b[0m\u001b[0;34m)\u001b[0m\u001b[0;34m[\u001b[0m\u001b[0;36m0\u001b[0m\u001b[0;34m]\u001b[0m\u001b[0;34m)\u001b[0m\u001b[0;34m,\u001b[0m\u001b[0mdim\u001b[0m\u001b[0;34m=\u001b[0m\u001b[0;36m0\u001b[0m\u001b[0;34m)\u001b[0m\u001b[0;34m\u001b[0m\u001b[0;34m\u001b[0m\u001b[0m\n\u001b[0m\u001b[1;32m    176\u001b[0m \u001b[0;34m\u001b[0m\u001b[0m\n\u001b[1;32m    177\u001b[0m \u001b[0;34m\u001b[0m\u001b[0m\n",
            "\u001b[0;31mNameError\u001b[0m: name 'x_train' is not defined"
          ]
        }
      ]
    },
    {
      "cell_type": "code",
      "metadata": {
        "id": "UDUPSxd8geJV",
        "colab_type": "code",
        "colab": {
          "base_uri": "https://localhost:8080/",
          "height": 34
        },
        "outputId": "5906fd83-95f8-4bff-ab09-cbc18647a7ca"
      },
      "source": [
        "train_indices.shape"
      ],
      "execution_count": 2,
      "outputs": [
        {
          "output_type": "execute_result",
          "data": {
            "text/plain": [
              "torch.Size([69996, 100])"
            ]
          },
          "metadata": {
            "tags": []
          },
          "execution_count": 2
        }
      ]
    },
    {
      "cell_type": "code",
      "metadata": {
        "id": "ju6BnmPNgiD9",
        "colab_type": "code",
        "colab": {
          "base_uri": "https://localhost:8080/",
          "height": 850
        },
        "outputId": "def8b128-1026-4231-caa5-5d4784d56028"
      },
      "source": [
        "with torch.no_grad():\n",
        "  for i in range(20,30):\n",
        "    if i == 20:\n",
        "      x_train = bert_model(train_indices[:1000])[0]  \n",
        "    else:\n",
        "      x_train = torch.cat((x_train,bert_model(train_indices[i*1000:(i+1)*1000])[0]),dim=0)\n",
        "      \n",
        "\n",
        "x_train"
      ],
      "execution_count": 3,
      "outputs": [
        {
          "output_type": "execute_result",
          "data": {
            "text/plain": [
              "tensor([[[-0.4374,  0.3052,  0.4779,  ..., -0.2994,  0.4771, -0.5297],\n",
              "         [-0.3174,  0.2385,  0.3197,  ..., -0.4987,  0.4756,  0.2309],\n",
              "         [-0.1331,  0.2687,  1.1933,  ..., -0.3334,  0.5221,  0.4827],\n",
              "         ...,\n",
              "         [ 0.2037, -0.1072,  0.9296,  ..., -0.5398,  0.2554, -0.8074],\n",
              "         [ 0.1017, -0.1093,  0.9060,  ..., -0.5195,  0.1509, -0.7584],\n",
              "         [ 0.1147,  0.0751,  0.8272,  ..., -0.5050,  0.1400, -0.8131]],\n",
              "\n",
              "        [[-0.5415,  0.3170,  0.4304,  ..., -0.4812,  0.4469, -0.4659],\n",
              "         [-0.2192,  0.6637, -0.0265,  ..., -0.6692,  0.1630, -0.3818],\n",
              "         [-0.4265,  0.4721,  0.2064,  ..., -0.3100,  0.0573,  0.3148],\n",
              "         ...,\n",
              "         [ 0.0918, -0.2180,  0.9180,  ..., -0.5563,  0.2320, -0.7675],\n",
              "         [-0.0831, -0.1838,  0.9331,  ..., -0.5530,  0.1662, -0.6904],\n",
              "         [-0.0162,  0.0234,  0.8659,  ..., -0.6017,  0.1680, -0.8301]],\n",
              "\n",
              "        [[-0.4318,  0.4026,  0.4854,  ..., -0.3491,  0.5271, -0.5924],\n",
              "         [ 0.1241,  1.6540,  0.7956,  ...,  0.1752,  0.6345,  0.2688],\n",
              "         [ 1.3051,  1.2358,  1.2250,  ...,  0.3098, -0.0617, -1.6389],\n",
              "         ...,\n",
              "         [ 0.2506, -0.1778,  0.9618,  ..., -0.6024,  0.1915, -0.8969],\n",
              "         [ 0.1558, -0.1798,  0.9396,  ..., -0.5839,  0.0904, -0.8475],\n",
              "         [ 0.1640,  0.0100,  0.8487,  ..., -0.5656,  0.0792, -0.8899]],\n",
              "\n",
              "        ...,\n",
              "\n",
              "        [[-0.3460,  0.5369,  0.3813,  ..., -0.2559,  0.4751, -0.7050],\n",
              "         [-0.2584,  0.6862,  0.0332,  ..., -0.4413,  0.4113,  0.5186],\n",
              "         [-1.1770,  0.5793,  1.1520,  ..., -0.3320,  0.5426,  0.1901],\n",
              "         ...,\n",
              "         [ 0.3196, -0.0713,  0.9011,  ..., -0.5577,  0.2665, -0.8639],\n",
              "         [ 0.2124, -0.0673,  0.8673,  ..., -0.5379,  0.1644, -0.8126],\n",
              "         [ 0.1948,  0.1113,  0.7865,  ..., -0.5297,  0.1408, -0.8510]],\n",
              "\n",
              "        [[-0.4084,  0.2576,  0.3598,  ..., -0.2686,  0.5393, -0.6245],\n",
              "         [ 0.0996, -0.1389,  0.5819,  ...,  0.6615,  0.2360,  0.4177],\n",
              "         [-0.0320, -0.0046,  0.5075,  ...,  0.0806,  0.4782, -0.3567],\n",
              "         ...,\n",
              "         [ 0.2802, -0.2076,  0.9543,  ..., -0.5650,  0.2628, -0.8838],\n",
              "         [ 0.1749, -0.2149,  0.9313,  ..., -0.5488,  0.1654, -0.8371],\n",
              "         [ 0.1800, -0.0279,  0.8498,  ..., -0.5450,  0.1319, -0.9301]],\n",
              "\n",
              "        [[-0.4647,  0.4974,  0.4620,  ..., -0.4977,  0.5022, -0.4767],\n",
              "         [-0.3677, -0.1903, -0.0478,  ..., -0.0401, -0.1411, -1.0474],\n",
              "         [-0.2452, -0.6286, -0.1713,  ...,  0.2097, -0.2827, -0.8959],\n",
              "         ...,\n",
              "         [ 0.1483,  0.0286,  1.0206,  ..., -0.6141,  0.2444, -0.8124],\n",
              "         [ 0.0733,  0.0046,  1.0078,  ..., -0.5977,  0.1571, -0.7594],\n",
              "         [ 0.0788,  0.1962,  0.9501,  ..., -0.5877,  0.1393, -0.8069]]])"
            ]
          },
          "metadata": {
            "tags": []
          },
          "execution_count": 3
        }
      ]
    },
    {
      "cell_type": "code",
      "metadata": {
        "id": "DOtsSUSyr_dW",
        "colab_type": "code",
        "colab": {}
      },
      "source": [
        "torch.save(x_train,'xtrain2030.pt')"
      ],
      "execution_count": 0,
      "outputs": []
    },
    {
      "cell_type": "code",
      "metadata": {
        "id": "KbtSzNpOxNMK",
        "colab_type": "code",
        "colab": {
          "base_uri": "https://localhost:8080/",
          "height": 34
        },
        "outputId": "1c527bd5-00f8-4f2b-a288-1ecb3ec48c05"
      },
      "source": [
        "print(\"hi\")"
      ],
      "execution_count": 8,
      "outputs": [
        {
          "output_type": "stream",
          "text": [
            "hi\n"
          ],
          "name": "stdout"
        }
      ]
    },
    {
      "cell_type": "code",
      "metadata": {
        "id": "x5zvn-ma05B7",
        "colab_type": "code",
        "colab": {
          "base_uri": "https://localhost:8080/",
          "height": 34
        },
        "outputId": "3657555c-9aa7-4404-d824-dad38b454d02"
      },
      "source": [
        "print(\"wassup\")"
      ],
      "execution_count": 9,
      "outputs": [
        {
          "output_type": "stream",
          "text": [
            "wassup\n"
          ],
          "name": "stdout"
        }
      ]
    },
    {
      "cell_type": "code",
      "metadata": {
        "id": "8de5ja9c11wJ",
        "colab_type": "code",
        "colab": {
          "base_uri": "https://localhost:8080/",
          "height": 34
        },
        "outputId": "2f477d4e-bff5-4b9f-9f08-da57ddba2f84"
      },
      "source": [
        "test_indices.shape"
      ],
      "execution_count": 12,
      "outputs": [
        {
          "output_type": "execute_result",
          "data": {
            "text/plain": [
              "torch.Size([20000, 100])"
            ]
          },
          "metadata": {
            "tags": []
          },
          "execution_count": 12
        }
      ]
    },
    {
      "cell_type": "code",
      "metadata": {
        "id": "0pMc_lCr1uQg",
        "colab_type": "code",
        "colab": {
          "base_uri": "https://localhost:8080/",
          "height": 252
        },
        "outputId": "5d6b12c9-49d4-4376-e01a-096a4a8b137c"
      },
      "source": [
        "with torch.no_grad():\n",
        "  for i in range(10):\n",
        "    if i == 0:\n",
        "      x_train = bert_model(train_indices[:1000])[0]\n",
        "      # x_val = bert_model(val_indices[:1000])[0]\n",
        "      # x_test = bert_model(test_indices[:1000])[0]\n",
        "    else:\n",
        "      x_train = torch.cat((x_train,bert_model(train_indices[i*1000:(i+1)*1000])[0]),dim=0)\n",
        "      # x_val = torch.cat((x_val,bert_model(val_indices[i*1000:(i+1)*1000])[0]),dim=0)\n",
        "      # x_test = torch.cat((x_test,bert_model(test_indices[i*1000:(i+1)*1000])[0]),dim=0)"
      ],
      "execution_count": 1,
      "outputs": [
        {
          "output_type": "error",
          "ename": "NameError",
          "evalue": "ignored",
          "traceback": [
            "\u001b[0;31m---------------------------------------------------------------------------\u001b[0m",
            "\u001b[0;31mNameError\u001b[0m                                 Traceback (most recent call last)",
            "\u001b[0;32m<ipython-input-1-d5b8643bfbbf>\u001b[0m in \u001b[0;36m<module>\u001b[0;34m()\u001b[0m\n\u001b[0;32m----> 1\u001b[0;31m \u001b[0;32mwith\u001b[0m \u001b[0mtorch\u001b[0m\u001b[0;34m.\u001b[0m\u001b[0mno_grad\u001b[0m\u001b[0;34m(\u001b[0m\u001b[0;34m)\u001b[0m\u001b[0;34m:\u001b[0m\u001b[0;34m\u001b[0m\u001b[0;34m\u001b[0m\u001b[0m\n\u001b[0m\u001b[1;32m      2\u001b[0m   \u001b[0;32mfor\u001b[0m \u001b[0mi\u001b[0m \u001b[0;32min\u001b[0m \u001b[0mrange\u001b[0m\u001b[0;34m(\u001b[0m\u001b[0;36m10\u001b[0m\u001b[0;34m)\u001b[0m\u001b[0;34m:\u001b[0m\u001b[0;34m\u001b[0m\u001b[0;34m\u001b[0m\u001b[0m\n\u001b[1;32m      3\u001b[0m     \u001b[0;32mif\u001b[0m \u001b[0mi\u001b[0m \u001b[0;34m==\u001b[0m \u001b[0;36m0\u001b[0m\u001b[0;34m:\u001b[0m\u001b[0;34m\u001b[0m\u001b[0;34m\u001b[0m\u001b[0m\n\u001b[1;32m      4\u001b[0m       \u001b[0mx_train\u001b[0m \u001b[0;34m=\u001b[0m \u001b[0mbert_model\u001b[0m\u001b[0;34m(\u001b[0m\u001b[0mtrain_indices\u001b[0m\u001b[0;34m[\u001b[0m\u001b[0;34m:\u001b[0m\u001b[0;36m1000\u001b[0m\u001b[0;34m]\u001b[0m\u001b[0;34m)\u001b[0m\u001b[0;34m[\u001b[0m\u001b[0;36m0\u001b[0m\u001b[0;34m]\u001b[0m\u001b[0;34m\u001b[0m\u001b[0;34m\u001b[0m\u001b[0m\n\u001b[1;32m      5\u001b[0m       \u001b[0;31m# x_val = bert_model(val_indices[:1000])[0]\u001b[0m\u001b[0;34m\u001b[0m\u001b[0;34m\u001b[0m\u001b[0;34m\u001b[0m\u001b[0m\n",
            "\u001b[0;31mNameError\u001b[0m: name 'torch' is not defined"
          ]
        }
      ]
    }
  ]
}
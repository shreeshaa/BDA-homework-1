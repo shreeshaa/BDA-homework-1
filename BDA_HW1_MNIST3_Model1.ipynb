{
 "cells": [
  {
   "cell_type": "code",
   "execution_count": 12,
   "metadata": {},
   "outputs": [],
   "source": [
    "import tensorflow as tf\n",
    "from tensorflow import keras\n",
    "from tensorflow.keras.utils import to_categorical\n",
    "from tensorflow.keras.datasets import mnist\n",
    "from tensorflow.keras.datasets import fashion_mnist\n",
    "from tensorflow.keras.models import Sequential\n",
    "from tensorflow.keras.layers import Dense, Activation, Conv2D, MaxPooling2D, Flatten\n",
    "import numpy as np\n",
    "import os\n",
    "\n",
    "os.environ['KMP_DUPLICATE_LIB_OK']='True'\n",
    "\n",
    "np.random.seed(3)\n",
    "\n",
    "(X_train, Y_train), (X_test_org, Y_test_org) = mnist.load_data()\n",
    "\n"
   ]
  },
  {
   "cell_type": "code",
   "execution_count": 13,
   "metadata": {},
   "outputs": [],
   "source": [
    "X_val = X_train[11000:12000]\n",
    "Y_val = Y_train[11000:12000]\n",
    "X_train = X_train[8000:11000]\n",
    "Y_train = Y_train[8000:11000]\n",
    "X_test = X_test_org[2000:3000]\n",
    "Y_test = Y_test_org[2000:3000]\n",
    "\n",
    "X_train = X_train.reshape(3000, 28,28,1).astype('float32') / 255.0\n",
    "X_val = X_val.reshape(1000, 28,28,1).astype('float32') / 255.0\n",
    "X_test = X_test.reshape(1000, 28,28,1).astype('float32') / 255.0\n"
   ]
  },
  {
   "cell_type": "code",
   "execution_count": 14,
   "metadata": {},
   "outputs": [],
   "source": [
    "Y_train = to_categorical(Y_train)\n",
    "Y_val = to_categorical(Y_val)\n",
    "Y_test = to_categorical(Y_test)"
   ]
  },
  {
   "cell_type": "code",
   "execution_count": 20,
   "metadata": {},
   "outputs": [
    {
     "name": "stdout",
     "output_type": "stream",
     "text": [
      "Model: \"sequential_3\"\n",
      "_________________________________________________________________\n",
      "Layer (type)                 Output Shape              Param #   \n",
      "=================================================================\n",
      "conv2d_6 (Conv2D)            (None, 28, 28, 64)        320       \n",
      "_________________________________________________________________\n",
      "max_pooling2d_4 (MaxPooling2 (None, 14, 14, 64)        0         \n",
      "_________________________________________________________________\n",
      "dropout (Dropout)            (None, 14, 14, 64)        0         \n",
      "_________________________________________________________________\n",
      "conv2d_7 (Conv2D)            (None, 14, 14, 32)        8224      \n",
      "_________________________________________________________________\n",
      "max_pooling2d_5 (MaxPooling2 (None, 7, 7, 32)          0         \n",
      "_________________________________________________________________\n",
      "dropout_1 (Dropout)          (None, 7, 7, 32)          0         \n",
      "_________________________________________________________________\n",
      "flatten_3 (Flatten)          (None, 1568)              0         \n",
      "_________________________________________________________________\n",
      "dense_6 (Dense)              (None, 256)               401664    \n",
      "_________________________________________________________________\n",
      "dropout_2 (Dropout)          (None, 256)               0         \n",
      "_________________________________________________________________\n",
      "dense_7 (Dense)              (None, 10)                2570      \n",
      "=================================================================\n",
      "Total params: 412,778\n",
      "Trainable params: 412,778\n",
      "Non-trainable params: 0\n",
      "_________________________________________________________________\n",
      "Train on 3000 samples, validate on 1000 samples\n",
      "Epoch 1/20\n",
      "3000/3000 [==============================] - 6s 2ms/sample - loss: 0.9775 - acc: 0.6830 - val_loss: 0.4360 - val_acc: 0.8570\n",
      "Epoch 2/20\n",
      "3000/3000 [==============================] - 6s 2ms/sample - loss: 0.4007 - acc: 0.8680 - val_loss: 0.2789 - val_acc: 0.9070\n",
      "Epoch 3/20\n",
      "3000/3000 [==============================] - 9s 3ms/sample - loss: 0.2962 - acc: 0.9070 - val_loss: 0.2223 - val_acc: 0.9380\n",
      "Epoch 4/20\n",
      "3000/3000 [==============================] - 9s 3ms/sample - loss: 0.2303 - acc: 0.9287 - val_loss: 0.1829 - val_acc: 0.9440\n",
      "Epoch 5/20\n",
      "3000/3000 [==============================] - 9s 3ms/sample - loss: 0.2052 - acc: 0.9383 - val_loss: 0.1912 - val_acc: 0.9390\n",
      "Epoch 6/20\n",
      "3000/3000 [==============================] - 10s 3ms/sample - loss: 0.1684 - acc: 0.9417 - val_loss: 0.1621 - val_acc: 0.9490\n",
      "Epoch 7/20\n",
      "3000/3000 [==============================] - 9s 3ms/sample - loss: 0.1596 - acc: 0.9470 - val_loss: 0.1353 - val_acc: 0.9530\n",
      "Epoch 8/20\n",
      "3000/3000 [==============================] - 9s 3ms/sample - loss: 0.1200 - acc: 0.9587 - val_loss: 0.1223 - val_acc: 0.9570\n",
      "Epoch 9/20\n",
      "3000/3000 [==============================] - 7s 2ms/sample - loss: 0.1125 - acc: 0.9673 - val_loss: 0.1299 - val_acc: 0.9580\n",
      "Epoch 10/20\n",
      "3000/3000 [==============================] - 6s 2ms/sample - loss: 0.1021 - acc: 0.9670 - val_loss: 0.1016 - val_acc: 0.9640\n",
      "Epoch 11/20\n",
      "3000/3000 [==============================] - 6s 2ms/sample - loss: 0.1098 - acc: 0.9660 - val_loss: 0.0946 - val_acc: 0.9700\n",
      "Epoch 12/20\n",
      "3000/3000 [==============================] - 6s 2ms/sample - loss: 0.0921 - acc: 0.9710 - val_loss: 0.1061 - val_acc: 0.9620\n",
      "Epoch 13/20\n",
      "3000/3000 [==============================] - 6s 2ms/sample - loss: 0.0913 - acc: 0.9707 - val_loss: 0.1145 - val_acc: 0.9610\n",
      "Epoch 14/20\n",
      "3000/3000 [==============================] - 6s 2ms/sample - loss: 0.0780 - acc: 0.9710 - val_loss: 0.1501 - val_acc: 0.9520\n",
      "Epoch 15/20\n",
      "3000/3000 [==============================] - 6s 2ms/sample - loss: 0.0776 - acc: 0.9773 - val_loss: 0.1022 - val_acc: 0.9630\n",
      "Epoch 16/20\n",
      "3000/3000 [==============================] - 6s 2ms/sample - loss: 0.0720 - acc: 0.9760 - val_loss: 0.1004 - val_acc: 0.9640\n",
      "Epoch 17/20\n",
      "3000/3000 [==============================] - 6s 2ms/sample - loss: 0.0607 - acc: 0.9797 - val_loss: 0.0996 - val_acc: 0.9680\n",
      "Epoch 18/20\n",
      "3000/3000 [==============================] - 4s 1ms/sample - loss: 0.0652 - acc: 0.9793 - val_loss: 0.0921 - val_acc: 0.9700\n",
      "Epoch 19/20\n",
      "3000/3000 [==============================] - 3s 1ms/sample - loss: 0.0568 - acc: 0.9793 - val_loss: 0.1138 - val_acc: 0.9680\n",
      "Epoch 20/20\n",
      "3000/3000 [==============================] - 3s 1ms/sample - loss: 0.0480 - acc: 0.9833 - val_loss: 0.1094 - val_acc: 0.9620\n",
      "Mean Accuracy:  0.9430167\n",
      "Mean Loss:  0.17620066106845236\n",
      "Mean Val Accuracy:  0.95030004\n",
      "Mean Val Loss:  0.1522643049683511\n"
     ]
    }
   ],
   "source": [
    "model = Sequential()\n",
    "\n",
    "model.add(Conv2D(32, (3, 3), activation='relu', input_shape=(28, 28, 1)))\n",
    "model.add(MaxPooling2D((2, 2)))\n",
    "model.add(Conv2D(64, (3, 3), activation='relu'))\n",
    "model.add(MaxPooling2D((2, 2)))\n",
    "model.add(Conv2D(64, (3, 3), activation='relu'))\n",
    "model.add(Flatten())\n",
    "model.add(Dense(64, activation='relu'))\n",
    "model.add(Dense(10, activation='softmax'))\n",
    "\n",
    "model.compile(loss='categorical_crossentropy', optimizer='adam', metrics=['accuracy'])\n",
    "\n",
    "model.summary()\n",
    "hist = model.fit(X_train, Y_train, epochs=5, batch_size=10, validation_data=(X_val, Y_val))\n",
    "\n",
    "print('Mean Accuracy: ',np.mean(hist.history['acc']))\n",
    "print('Mean Loss: ',np.mean(hist.history['loss']))\n",
    "print('Mean Val Accuracy: ',np.mean(hist.history['val_acc']))\n",
    "print('Mean Val Loss: ',np.mean(hist.history['val_loss']))\n"
   ]
  },
  {
   "cell_type": "code",
   "execution_count": 21,
   "metadata": {},
   "outputs": [
    {
     "name": "stdout",
     "output_type": "stream",
     "text": [
      "1000/1000 [==============================] - 0s 220us/sample - loss: 0.1571 - acc: 0.9590\n",
      "Test loss: 0.15714662003985722\n",
      "Test accuracy: 0.959\n"
     ]
    },
    {
     "data": {
      "image/png": "[encoded data removed]",
      "text/plain": [
       "<Figure size 432x288 with 2 Axes>"
      ]
     },
     "metadata": {
      "needs_background": "light"
     },
     "output_type": "display_data"
    }
   ],
   "source": [
    "test_loss, test_acc = model.evaluate(X_test, Y_test, batch_size=10)\n",
    "print('Test loss:', test_loss)\n",
    "print('Test accuracy:', test_acc)\n",
    "\n",
    "import matplotlib.pyplot as plt\n",
    "\n",
    "fig, loss_ax = plt.subplots()\n",
    "\n",
    "acc_ax = loss_ax.twinx()\n",
    "\n",
    "loss_ax.plot(hist.history['loss'], 'y', label='train loss')\n",
    "loss_ax.plot(hist.history['val_loss'], 'r', label='val loss')\n",
    "\n",
    "acc_ax.plot(hist.history['acc'], 'b', label='train acc')\n",
    "acc_ax.plot(hist.history['val_acc'], 'g', label='val acc')\n",
    "\n",
    "loss_ax.set_xlabel('epoch')\n",
    "loss_ax.set_ylabel('loss')\n",
    "acc_ax.set_ylabel('accuray')\n",
    "\n",
    "loss_ax.legend(loc='upper left')\n",
    "acc_ax.legend(loc='lower left')\n",
    "\n",
    "plt.show()"
   ]
  },
  {
   "cell_type": "code",
   "execution_count": 9,
   "metadata": {
    "scrolled": true
   },
   "outputs": [],
   "source": [
    "(OX_train, OY_train), (OX_test, OY_test) = fashion_mnist.load_data()\n",
    "OX_test = OX_test[:1000]\n",
    "OY_test = OY_test[:1000]\n",
    "OY_test = to_categorical(OY_test)\n",
    "OX_test_reshape = OX_test.reshape(1000, 28,28,1).astype('float32') / 255.0\n",
    "test_loss, test_acc = model.evaluate(OX_test_reshape, OY_test, batch_size=10)\n",
    "print('Test loss:', test_loss)\n",
    "print('Test accuracy:', test_acc)\n",
    "\n",
    "predictions = model.predict(OX_test_reshape)"
   ]
  },
  {
   "cell_type": "code",
   "execution_count": 10,
   "metadata": {},
   "outputs": [
    {
     "data": {
      "image/png": "[encoded data removed]",
      "text/plain": [
       "<Figure size 432x288 with 1 Axes>"
      ]
     },
     "metadata": {
      "needs_background": "light"
     },
     "output_type": "display_data"
    },
    {
     "name": "stdout",
     "output_type": "stream",
     "text": [
      "[4.9073310e-03 4.8056915e-02 8.6369818e-01 5.0074114e-03 7.0940790e-05\n",
      " 6.2821000e-03 6.8286315e-02 2.1732425e-04 3.4250855e-03 4.8412490e-05]\n"
     ]
    },
    {
     "data": {
      "image/png": "[encoded data removed]",
      "text/plain": [
       "<Figure size 432x288 with 1 Axes>"
      ]
     },
     "metadata": {
      "needs_background": "light"
     },
     "output_type": "display_data"
    },
    {
     "name": "stdout",
     "output_type": "stream",
     "text": [
      "[1.1249481e-03 1.1704048e-05 2.3803514e-04 2.0028394e-05 1.4243784e-04\n",
      " 5.4895993e-02 7.2177351e-02 1.6923666e-05 8.7102163e-01 3.5092395e-04]\n"
     ]
    },
    {
     "data": {
      "image/png": "[encoded data removed]",
      "text/plain": [
       "<Figure size 432x288 with 1 Axes>"
      ]
     },
     "metadata": {
      "needs_background": "light"
     },
     "output_type": "display_data"
    },
    {
     "name": "stdout",
     "output_type": "stream",
     "text": [
      "[1.14157915e-01 6.23051601e-05 5.96141210e-03 2.24476826e-05\n",
      " 1.12403010e-03 3.20489693e-04 1.18684676e-02 2.45225121e-04\n",
      " 8.66137624e-01 1.00011013e-04]\n"
     ]
    },
    {
     "data": {
      "image/png": "[encoded data removed]",
      "text/plain": [
       "<Figure size 432x288 with 1 Axes>"
      ]
     },
     "metadata": {
      "needs_background": "light"
     },
     "output_type": "display_data"
    },
    {
     "name": "stdout",
     "output_type": "stream",
     "text": [
      "[1.4894317e-04 2.6546892e-02 7.5731963e-02 1.3120588e-03 1.4251645e-04\n",
      " 1.2557791e-03 3.8460878e-04 2.3830168e-04 8.9418387e-01 5.5131637e-05]\n"
     ]
    },
    {
     "data": {
      "image/png": "[encoded data removed]",
      "text/plain": [
       "<Figure size 432x288 with 1 Axes>"
      ]
     },
     "metadata": {
      "needs_background": "light"
     },
     "output_type": "display_data"
    },
    {
     "name": "stdout",
     "output_type": "stream",
     "text": [
      "[0.17272021 0.03633295 0.12096229 0.08358333 0.0500229  0.03653969\n",
      " 0.09166083 0.03887118 0.25993153 0.10937516]\n"
     ]
    }
   ],
   "source": [
    "for i in range(5):\n",
    "    plt.imshow(OX_test[i])\n",
    "    plt.show()\n",
    "    print(predictions[i])"
   ]
  },
  {
   "cell_type": "code",
   "execution_count": 11,
   "metadata": {},
   "outputs": [
    {
     "data": {
      "image/png": "[encoded data removed]",
      "text/plain": [
       "<Figure size 432x288 with 1 Axes>"
      ]
     },
     "metadata": {
      "needs_background": "light"
     },
     "output_type": "display_data"
    },
    {
     "name": "stdout",
     "output_type": "stream",
     "text": [
      "Original:  6\n",
      "Predicted probabilities:  [0. 0. 0. 0. 0. 0. 1. 0. 0. 0.]\n",
      "Predicted Y:  6\n"
     ]
    },
    {
     "data": {
      "image/png": "[encoded data removed]",
      "text/plain": [
       "<Figure size 432x288 with 1 Axes>"
      ]
     },
     "metadata": {
      "needs_background": "light"
     },
     "output_type": "display_data"
    },
    {
     "name": "stdout",
     "output_type": "stream",
     "text": [
      "Original:  9\n",
      "Predicted probabilities:  [0. 0. 0. 0. 0. 0. 0. 0. 0. 1.]\n",
      "Predicted Y:  9\n"
     ]
    },
    {
     "data": {
      "image/png": "[encoded data removed]",
      "text/plain": [
       "<Figure size 432x288 with 1 Axes>"
      ]
     },
     "metadata": {
      "needs_background": "light"
     },
     "output_type": "display_data"
    },
    {
     "name": "stdout",
     "output_type": "stream",
     "text": [
      "Original:  8\n",
      "Predicted probabilities:  [0. 0. 0. 0. 0. 0. 0. 0. 1. 0.]\n",
      "Predicted Y:  8\n"
     ]
    },
    {
     "data": {
      "image/png": "[encoded data removed]",
      "text/plain": [
       "<Figure size 432x288 with 1 Axes>"
      ]
     },
     "metadata": {
      "needs_background": "light"
     },
     "output_type": "display_data"
    },
    {
     "name": "stdout",
     "output_type": "stream",
     "text": [
      "Original:  1\n",
      "Predicted probabilities:  [0. 1. 0. 0. 0. 0. 0. 0. 0. 0.]\n",
      "Predicted Y:  1\n"
     ]
    },
    {
     "data": {
      "image/png": "[encoded data removed]",
      "text/plain": [
       "<Figure size 432x288 with 1 Axes>"
      ]
     },
     "metadata": {
      "needs_background": "light"
     },
     "output_type": "display_data"
    },
    {
     "name": "stdout",
     "output_type": "stream",
     "text": [
      "Original:  2\n",
      "Predicted probabilities:  [0. 0. 1. 0. 0. 0. 0. 0. 0. 0.]\n",
      "Predicted Y:  2\n"
     ]
    }
   ],
   "source": [
    "X_check = X_test_org[3000:4000]\n",
    "X_check = X_check.reshape(1000,28,28,1)\n",
    "Xpredictions = model.predict(X_check)\n",
    "\n",
    "for i in range(3000,3005):\n",
    "    plt.imshow(X_test_org[i])\n",
    "    plt.show()\n",
    "    print (\"Original: \",Y_test_org[i])\n",
    "    print(\"Predicted probabilities: \",Xpredictions[i-3000])\n",
    "    print(\"Predicted Y: \",np.argmax(Xpredictions[i-3000]))"
   ]
  },
  {
   "cell_type": "code",
   "execution_count": null,
   "metadata": {},
   "outputs": [],
   "source": []
  }
 ],
 "metadata": {
  "kernelspec": {
   "display_name": "Python 3",
   "language": "python",
   "name": "python3"
  },
  "language_info": {
   "codemirror_mode": {
    "name": "ipython",
    "version": 3
   },
   "file_extension": ".py",
   "mimetype": "text/x-python",
   "name": "python",
   "nbconvert_exporter": "python",
   "pygments_lexer": "ipython3",
   "version": "3.7.3"
  }
 },
 "nbformat": 4,
 "nbformat_minor": 2
}
